{
  "nbformat": 4,
  "nbformat_minor": 0,
  "metadata": {
    "colab": {
      "name": "WebScrapping.ipynb",
      "provenance": []
    },
    "kernelspec": {
      "name": "python3",
      "display_name": "Python 3"
    }
  },
  "cells": [
    {
      "cell_type": "code",
      "metadata": {
        "id": "3J0QLEQC8DY8",
        "colab_type": "code",
        "colab": {}
      },
      "source": [
        "#Librerias para poder interactuar con la www/http\n",
        "#https://towardsdatascience.com/how-to-web-scrape-with-python-in-4-minutes-bc49186a8460\n",
        "\n",
        "import requests\n",
        "import urllib.request\n",
        "import time\n",
        "from bs4 import BeautifulSoup"
      ],
      "execution_count": 1,
      "outputs": []
    },
    {
      "cell_type": "code",
      "metadata": {
        "id": "-kaiEMnG8sSQ",
        "colab_type": "code",
        "colab": {
          "base_uri": "https://localhost:8080/",
          "height": 85
        },
        "outputId": "6bca5ae6-5f5e-44cd-dd79-f413eb29331e"
      },
      "source": [
        "#Almcenamos las url que nos interesa investigar\n",
        "url_list = [\"https://cnnespanol.cnn.com/video/lopez-gatell-uso-cubrebocas-contagio-coronavirus-prevencion-covid19-perspectivas-mexico/\",\n",
        "            \"https://www.tvnotas.com.mx/noticias-noticias-mexico/lopez-gatell-se-esta-reduciendo-la-velocidad-de-crecimiento-de-la-epidemia\",\n",
        "            \"https://www.meganoticias.mx/cdmx/noticia/no-hay-enconos-con-los-gobernadores-lopez-gatell/164794\",\n",
        "            \"https://www.informador.mx/ideas/Se-debe-investigar-a-Lopez-Gatell-20200706-0009.html\"]\n"
      ],
      "execution_count": 3,
      "outputs": [
        {
          "output_type": "stream",
          "text": [
            "https://cnnespanol.cnn.com/video/lopez-gatell-uso-cubrebocas-contagio-coronavirus-prevencion-covid19-perspectivas-mexico/\n",
            "https://www.tvnotas.com.mx/noticias-noticias-mexico/lopez-gatell-se-esta-reduciendo-la-velocidad-de-crecimiento-de-la-epidemia\n",
            "https://www.meganoticias.mx/cdmx/noticia/no-hay-enconos-con-los-gobernadores-lopez-gatell/164794\n",
            "https://www.informador.mx/ideas/Se-debe-investigar-a-Lopez-Gatell-20200706-0009.html\n"
          ],
          "name": "stdout"
        }
      ]
    },
    {
      "cell_type": "code",
      "metadata": {
        "id": "CkiZq15h97hb",
        "colab_type": "code",
        "colab": {}
      },
      "source": [
        "#Obtenemos el html de la página web que contiene la lista\n",
        "soup_list = []\n",
        "reponse_list = []\n",
        "for url in url_list:\n",
        "  aux = requests.get(url)\n",
        "  reponse_list.append(requests.get(url))\n",
        "  soup_list.append(BeautifulSoup(aux.text, \"html.parser\"))"
      ],
      "execution_count": 28,
      "outputs": []
    },
    {
      "cell_type": "code",
      "metadata": {
        "id": "hIv8nPeW-FPu",
        "colab_type": "code",
        "colab": {
          "base_uri": "https://localhost:8080/",
          "height": 102
        },
        "outputId": "a7d7547c-a649-4e44-a40a-bca9f3dffa29"
      },
      "source": [
        "#Podemos ahora manipular la página web en función de las etiquetas de HTML\n",
        "#Vamos a imprimir el título de cada uno de los noticieros que se agregaron a la lista\n",
        "for indice in range(len(soup_list)):\n",
        "  print(soup_list[indice]('title')[0])"
      ],
      "execution_count": 34,
      "outputs": [
        {
          "output_type": "stream",
          "text": [
            "<title>\n",
            "\tSubsecretario de Salud de México ahora sí recomienda uso de cubrebocas en espacios públicos | CNN</title>\n",
            "<title>López-Gatell: Se está reduciendo la velocidad de crecimiento de la epidemia | TVNotas ¡Irresistible!</title>\n",
            "<title>No hay enconos con los gobernadores: López Gatell - MEGANOTICIAS</title>\n",
            "<title>Se debe investigar a López-Gatell | El Informador :: Noticias de Jalisco, México, Deportes &amp; Entretenimiento</title>\n"
          ],
          "name": "stdout"
        }
      ]
    },
    {
      "cell_type": "markdown",
      "metadata": {
        "id": "-MZuCbefCIam",
        "colab_type": "text"
      },
      "source": [
        "Un <b>HTML</b> es un lenguaje de etiquetas. \n",
        "HTML sólo es la estructura de la página web, es decir, esta contiene el texto de la página y las instrucciones necesarias para colocar el texto en cierta posición y con cierto estilo o animaciones; estas últimas obtenidas usando CSS y JS.\n",
        "\n",
        "La forma más simple de una página HTML incluye \n",
        "  Encabezado: El título que aparece en las pestañas, aquí también se exportan los estilos y las animaciones, así como propiedades del lenguaje.\n",
        "  Cuerpo: Es el contenido de la pagina, aquí se coloca todo lo que se quiera poner en la página web.\n",
        "\n",
        "Dentro de la página web hay etiquetas que resaltan como:\n",
        "  Titulo: Se asigna a los encabezados\n",
        "  a: es una etiqueta de enlace, usualmente los hipervinculos están ligados con la etiqueta a.\n",
        "  h1,h2,...: Al igual que el titulo son etiquetas que buscan resaltar algun texto\n",
        "  p: Son etiquetas de parrafo, en general todos los textos largos se busca separar haciendo uso de estas etiquetas.\n",
        "\n",
        "Sin embargo es importante señalar que la estructura que se menciona puede no ser respetada por algunos desarrolladores, ya que HTML te da la libertad de asignarle el nombre que más te guste al etiquetado, sin embargo es de buenas costumbres usar las etiquetas arriba señaladas."
      ]
    },
    {
      "cell_type": "code",
      "metadata": {
        "id": "_NZoPAKO_PuO",
        "colab_type": "code",
        "colab": {
          "base_uri": "https://localhost:8080/",
          "height": 683
        },
        "outputId": "77c6b58b-0b78-4448-c163-7e948acf0b2c"
      },
      "source": [
        "#Buscamos e imprimimos el contenido de cada una de las páginas\n",
        "for indice in range(len(soup_list)):\n",
        "  print(indice)\n",
        "  print(soup_list[indice]('p'))"
      ],
      "execution_count": 43,
      "outputs": [
        {
          "output_type": "stream",
          "text": [
            "0\n",
            "[<p>\n",
            "<span>CNN © 2020 Cable News Network.</span>\n",
            "<span>Turner Broadcasting System, Inc.</span>\n",
            "<span>All rights reserved.</span>\n",
            "</p>, <p>Subsecretario de Salud de México ahora sí recomienda uso de cubrebocas en espacios públicos</p>, <p>El subsecretario de Salud de <a class=\"auto-link\" href=\"https://cnnespanol.cnn.com/category/mexico/\" target=\"_self\" title=\"México\">México</a>, Hugo López-Gatell, explicó sus motivos para llevar una mascarilla en una reunión este lunes, luego de que en anteriores ocasiones no recomendara su uso.</p>, <p class=\"news__byline\">\n",
            "\t\t\t\t\t\t\tPor <span itemprop=\"author\" itemscope=\"\" itemtype=\"http://schema.org/Person\"><a href=\"https://cnnespanol.cnn.com/author/cnn-espanol/\" itemprop=\"url\"><span itemprop=\"name\">CNN Español</span></a></span></p>, <p>\n",
            "<span>CNN © 2020 Cable News Network.</span>\n",
            "<span>Turner Broadcasting System, Inc.</span>\n",
            "<span>All rights reserved.</span>\n",
            "</p>]\n",
            "1\n",
            "[<p>Además de dar cifras 'favorecedoras', el Subsecretario de Prevención y Promoción de la Salud presentó el modelo de acción comunitaria para seguir controlando la pandemia.</p>, <p>Esta <strong>140 sesión informativa</strong> para dar a conocer el avance de la <strong>pandemia por Covid-19 en nuestro país, </strong>se llevó a cabo en el <strong>Palacio de Gobierno de Chiapas, en Tuxtla Gutiérrez,</strong> con el <strong>gobernador </strong>de dicha entidad, <strong>Rutilio Escandón Cadenas, y su equipo de trabajo</strong>; se realizó en este estado, porque <strong>será uno de los primeros en los que se probará el 'Modelo de acción comunitaria'. </strong></p>, <p>Dicha <strong>iniciativa busca seguir controlando la epidemia, y realizar acciones favorables para proteger a la población vulnerable</strong>, como <strong>comunidades indígenas</strong>; al respecto, <strong>Hugo López-Gatell Ramírez</strong>, titular de la Subsecretaría de Prevención y Promoción de la Salud, <strong>detalló en qué consiste </strong>ésta. </p>, <p class=\"rtecenter\"><a href=\"https://www.tvnotas.com.mx/noticias-noticias-mexico/lopez-gattel-se-reactiva-semaforo-epidemiologico-en-mexico\"><span style=\"font-size:20px;\">López Gattel: Se reactiva semáforo epidemiológico en México</span></a></p>, <p><strong>Esto se busca con el Modelo de acción comunitaria:</strong></p>, <p><img alt=\"Covid-19 México Pandemia Conferencia de Salud Hugo López Gatell Chiapas 17 julio 2020\" class=\"img-int kalooga_21606\" height=\"395\" src=\"/sites/default/files/articulosImg/2020/07/17/cifras17julio-21.jpg\" title=\"IG @HLGatell | El porcentaje de personas con Covid-19 ha reducido hasta un 14%.\" width=\"800\"/></p>, <p>Respecto a las <strong>cifras nacionales,</strong> Gatell explicó: <em>\"<strong>62 por ciento de las personas que han tenido Covid-19 se han recuperado</strong> y se encuentran gozando de buenas condiciones de salud en general; una noticia positiva que hemos destacado es que <strong>tenemos una tendencia de reducción en el persontaje de personas con Covid en los últimos 14 días\".</strong></em></p>, <p><em>\"Actualmente es <strong>14% de reducción,</strong> el <strong>promedio mundial es de 22%.</strong> Se está <strong>reduciendo la velocidad de crecimiento en méxico</strong>, pero continúa; gracias a que en unas entidades federativas se va reduciendo, <strong>en el conjunto del país cada vez va más lenta la epidemia</strong></em>\", agregó.</p>, <p>En cuanto a la <strong>ocupación hospitalaria</strong> dijo: <em>\"Tenemos <strong>46% de las camas de ocupación general ocupadas,</strong> el resto desocupadas; <strong>Tabasco es donde se encuentra la mayor presión de ocupación</strong>. Para <strong>personas críticamente enfermas </strong>tenemos una importante <strong>reserva de 62% de camas disponibles</strong>, el estado de Nuevo León es donde sólo se tiene el 34%\".</em></p>, <p><img alt=\"Covid-19 México Pandemia Conferencia de Salud Hugo López Gatell Chiapas 17 julio 2020\" class=\"img-int kalooga_21606\" height=\"395\" src=\"/sites/default/files/articulosImg/2020/07/17/informaciongeneral-21.jpg\" title=\"IG @HLGatell | Estas son las cifras presentadas con corte al 17 de julio de 2020.\" width=\"800\"/></p>, <p>Al 17 de julio de 2020, hay <strong>331 mil 298 casos confirmados, 29 mil 363 activos y 85 mil 877 sospechosos </strong>de Covid-19. Se han registrado <strong>382 mil 3 negativos, 38 mil 310 defunciones confirmadas</strong> y <strong>208 mil 436 personas recuperadas. </strong></p>, <p>Además, habló que <strong>Chiapas es uno de los estados en los que la epidemia, afortunadamente se ha mantenido controlada</strong>, y aseguró que<strong> sus casos activos están a la baja desde hace cuatro semanas</strong>; han <strong>reducido hasta un 26%</strong>,<strong> </strong>y su tendencia es sostenida a la reducción. <strong>Sólo representan el 4% de la pandemia en México. </strong></p>, <p>Por último, López-Gatell reiteró que <strong>el semaforo epidemiológico de riesgo cobrará vigencia este lunes 20 de julio, en la semana 30</strong>, y durará por lo menos una semana.</p>, <p><img alt=\"Covid-19 México Pandemia Conferencia de Salud Hugo López Gatell Chiapas 17 julio 2020\" class=\"img-int kalooga_21606\" height=\"395\" src=\"/sites/default/files/articulosImg/2020/07/17/camasdisponibles-21.jpg\" title=\"IG @HLGatell | Esta es la ocupación hospitalaria hasta el momento.\" width=\"800\"/></p>, <p class=\"rtecenter\"><span style=\"font-size:20px;\"><a href=\"https://www.tvnotas.com.mx/noticias-noticias-mexico/secretaria-de-salud-confirma-medicamentos-recomendados-contra-covid-19\">Secretaría de Salud confirma medicamentos recomendados contra Covid-19</a></span></p>, <p class=\"rtecenter\"><span style=\"font-size:20px;\">________________________________________</span></p>, <p class=\"rtecenter\"><span style=\"font-size:20px;\"><span style=\"background-color:#ADD8E6;\">No olvides descargar nuestra app TVNotas:</span></span></p>, <p class=\"rtecenter\"><span style=\"font-size:20px;\"><span style=\"background-color:#ADD8E6;\">Usuarios Android Google Play</span><br/>\n",
            "<span style=\"background-color:#ADD8E6;\">Usuarios iOS App Store</span></span></p>, <p class=\"rtecenter\"><span style=\"font-size:20px;\"><span style=\"background-color:#ADD8E6;\">También puedes recibir nuestra edición impresa en tu casa, sólo comunícate al teléfono 8002288668 #QuédateEnCasa</span></span></p>, <p id=\"titulo\">\n",
            "\t\t\t\t\tSUSCRÍBETE\n",
            "\t\t\t\t</p>, <p id=\"subtitulo\">\n",
            "\t\t\t\t\tY ACCESA DESDE TU MOVIL\n",
            "\t\t\t\t</p>, <p id=\"click\"> HAZ CLICK AQUÍ </p>, <p class=\"contentxt\">\n",
            "<a href=\"/contacto\" target=\"_blank\"><span class=\"cContacto \"><em class=\"icon-contact\"></em>Contacto</span></a>\n",
            "<a href=\"/aviso-de-privacidad\" target=\"_blank\"><span class=\"cAviso\">Aviso de Privacidad</span></a>\n",
            "<a href=\"https://www.notmusa.com.mx/tvnotas\" target=\"_blank\"><span class=\"cMediakit\">Media Kit</span></a>\n",
            "</p>]\n",
            "2\n",
            "[<p>Luego de que este fin de semana se hayan superado las 39 mil defunciones a causa del covid-19 en nuestro país, el subsecretario de Prevención y Promoción de  la Salud, Hugo López-Gatell, insistió en que no hay pleitos con los estados por el tema del semáforo epidemiológico.<br>\n",
            "<p><b><i>\"Es un distractor, estas ideas de que hay pleitos o de que hay enconos\"</i></b>, señaló el funcionario.<br>\n",
            "</br></p><p>El subsecretario señaló que nadie conoce mejor la realidad de una entidad federativa que sus habitantes y sus gobernantes, por ello expuso que generalmente desde la Secretaría de Salud se respetan y respaldan las decisiones que toman los gobiernos estatales y que no habrá confrontación. </p><p><b><i>\"Si un gobierno estatal decide tener medidas más restrictivas protectoras de la salud nos parece excelente, no pasa nada; si un gobierno estatal decide relajar las medidas que se recomiendan y que están estipuladas en el acuerdo secretarial que sigue vigente, es responsabilidad del estado la decisión que está tomando, nosotros no nos vamos a contraponer contra ellos\",</i></b> aseguró.<br>\n",
            "</br></p><p>En el día 49 de la nueva normalidad, la Secretaría de Salud reportó 39 mil 184 decesos por el coronavirus y 344 mil 224 casos confirmados.</p><br/></br></p>, <p><b><i>\"Es un distractor, estas ideas de que hay pleitos o de que hay enconos\"</i></b>, señaló el funcionario.<br>\n",
            "</br></p>, <p>El subsecretario señaló que nadie conoce mejor la realidad de una entidad federativa que sus habitantes y sus gobernantes, por ello expuso que generalmente desde la Secretaría de Salud se respetan y respaldan las decisiones que toman los gobiernos estatales y que no habrá confrontación. </p>, <p><b><i>\"Si un gobierno estatal decide tener medidas más restrictivas protectoras de la salud nos parece excelente, no pasa nada; si un gobierno estatal decide relajar las medidas que se recomiendan y que están estipuladas en el acuerdo secretarial que sigue vigente, es responsabilidad del estado la decisión que está tomando, nosotros no nos vamos a contraponer contra ellos\",</i></b> aseguró.<br>\n",
            "</br></p>, <p>En el día 49 de la nueva normalidad, la Secretaría de Salud reportó 39 mil 184 decesos por el coronavirus y 344 mil 224 casos confirmados.</p>, <p>\n",
            "\t\t\t\t\t\t\t\t\tDescarga la APP de MEGANOTICIAS para recibir notificaciones al instante, escuchar y descargar los programas,  además de contenido exclusivo de Meganoticias.\n",
            "\t\t\t\t\t\t\t\t</p>]\n",
            "3\n",
            "[<p class=\"news-author\">\n",
            "<span>Por:</span>\n",
            "<a href=\"/staff/rriva\" title=\"Raymundo Riva Palacio\">\n",
            "                                        Raymundo Riva Palacio\n",
            "                                    </a>\n",
            "</p>, <p>Se debe investigar a López-Gatell</p>, <p><p>México superó el sábado a Francia en número de decesos, 30 mil 366 frente a 29 mil 896, y se acerca rápidamente a Italia, que tiene 34 mil 854 muertos por el COVID-19, donde sus números van notoriamente a la baja, mientras que aquí van significativamente al alza. En número de contagios, México está en octavo lugar con 252 mil 165 casos acumulados, enfilándose a alcanzar al Reino Unido que lo supera por 34 mil 249, pero cuya transmisión de infección está a casi la mitad de la velocidad en este país. </p></p>, <p>México superó el sábado a Francia en número de decesos, 30 mil 366 frente a 29 mil 896, y se acerca rápidamente a Italia, que tiene 34 mil 854 muertos por el COVID-19, donde sus números van notoriamente a la baja, mientras que aquí van significativamente al alza. En número de contagios, México está en octavo lugar con 252 mil 165 casos acumulados, enfilándose a alcanzar al Reino Unido que lo supera por 34 mil 249, pero cuya transmisión de infección está a casi la mitad de la velocidad en este país. </p>, <p><p>Los números en México no son los que son -perdón por la redundancia-, sino aproximadamente dos terceras partes de la realidad que, de estarse registrando, nos colocaría probablemente muy cerca de Rusia o en el tercer sitio de muertes y contagios en el mundo, detrás de Estados Unidos y Brasil, a quienes triplica, sin embargo, en la tasa de letalidad. </p></p>, <p>Los números en México no son los que son -perdón por la redundancia-, sino aproximadamente dos terceras partes de la realidad que, de estarse registrando, nos colocaría probablemente muy cerca de Rusia o en el tercer sitio de muertes y contagios en el mundo, detrás de Estados Unidos y Brasil, a quienes triplica, sin embargo, en la tasa de letalidad. </p>, <p><p>No se trata de una competencia ni mucho menos, ni jugar a la carrera de caballos para ver qué país avanza más rápido en su dramática corrida, pero ayuda a problematizar la insistente negación del gobierno y sus inútiles esfuerzos por rechazar que su estrategia contra la pandemia está fracasando. Se entiende, pero no se justifica. Corregir la estrategia sería reconocer que se equivocaron, y si nos atenemos a la conducta política del Presidente Andrés Manuel López Obrador, él nunca falla y menos aún se equivoca en sus decisiones.</p></p>, <p>No se trata de una competencia ni mucho menos, ni jugar a la carrera de caballos para ver qué país avanza más rápido en su dramática corrida, pero ayuda a problematizar la insistente negación del gobierno y sus inútiles esfuerzos por rechazar que su estrategia contra la pandemia está fracasando. Se entiende, pero no se justifica. Corregir la estrategia sería reconocer que se equivocaron, y si nos atenemos a la conducta política del Presidente Andrés Manuel López Obrador, él nunca falla y menos aún se equivoca en sus decisiones.</p>, <p><p>Apenas el sábado, por citar el último ejemplo, Hugo López-Gatell minimizó el informe del Registro Nacional de Población que dice que por cada muerte reportada por la Secretaría de Salud, había un promedio de 2.3 que no habían sido registradas, de acuerdo con las actas de defunción hasta el 19 de junio. López-Gatell dijo que era muy difícil contabilizar los casos de personas que murieron en su casa o en la calle, rumbo al hospital, pero es una mentira. Según el Conacyt, que trabaja con cerca de él, 10.55% de los decesos fueron de personas que no llegaron al hospital.</p></p>, <p>Apenas el sábado, por citar el último ejemplo, Hugo López-Gatell minimizó el informe del Registro Nacional de Población que dice que por cada muerte reportada por la Secretaría de Salud, había un promedio de 2.3 que no habían sido registradas, de acuerdo con las actas de defunción hasta el 19 de junio. López-Gatell dijo que era muy difícil contabilizar los casos de personas que murieron en su casa o en la calle, rumbo al hospital, pero es una mentira. Según el Conacyt, que trabaja con cerca de él, 10.55% de los decesos fueron de personas que no llegaron al hospital.</p>, <p><p>El subsecretario sigue hablando de números, no de personas. Pero aún en sus dichos se encuentran las fallas estratégicas. ¿Cuántas veces se han documentado los mensajes cruzados y los absurdos de la fe como antídoto para el virus? El resultado ominoso, como se ve en comunidades y calles, es que son palabras a las que cientos de miles han hecho caso. ¿Cuántas veces se ha hablado del subregistro? Tantas veces como López-Gatell lo negó hasta que la evidencia lo calló. ¿Cuántas veces han presumido que no hay saturación de hospitales como prueba de éxito? Bueno, si hubo subregistro, si miles murieron sin ser hospitalizadas, si nunca se hicieron pruebas para detectar el comportamiento de COVID-19 y al mismo tiempo se incrementó sustantivamente la capacidad de camas, la variable de capacidad hospitalaria es un sofisma. </p></p>, <p>El subsecretario sigue hablando de números, no de personas. Pero aún en sus dichos se encuentran las fallas estratégicas. ¿Cuántas veces se han documentado los mensajes cruzados y los absurdos de la fe como antídoto para el virus? El resultado ominoso, como se ve en comunidades y calles, es que son palabras a las que cientos de miles han hecho caso. ¿Cuántas veces se ha hablado del subregistro? Tantas veces como López-Gatell lo negó hasta que la evidencia lo calló. ¿Cuántas veces han presumido que no hay saturación de hospitales como prueba de éxito? Bueno, si hubo subregistro, si miles murieron sin ser hospitalizadas, si nunca se hicieron pruebas para detectar el comportamiento de COVID-19 y al mismo tiempo se incrementó sustantivamente la capacidad de camas, la variable de capacidad hospitalaria es un sofisma. </p>, <p><p>A la demagogia irresponsable del Presidente de hablar del carácter del mexicano como un muro que impide avanzar al coronavirus, se sumó la insensatez del científico, preocupado por no enfrentar el carácter violento y autoritario de López Obrador, en lugar de velar por la vida de los mexicanos. La estrategia de López-Gatell está colapsada, y tendría que ser llamado a cuentas para determinar su responsabilidad por los decesos y contagios derivados de su estrategia sanitaria, como está sucediendo en otros países.</p></p>, <p>A la demagogia irresponsable del Presidente de hablar del carácter del mexicano como un muro que impide avanzar al coronavirus, se sumó la insensatez del científico, preocupado por no enfrentar el carácter violento y autoritario de López Obrador, en lugar de velar por la vida de los mexicanos. La estrategia de López-Gatell está colapsada, y tendría que ser llamado a cuentas para determinar su responsabilidad por los decesos y contagios derivados de su estrategia sanitaria, como está sucediendo en otros países.</p>, <p><p>La semana pasada, el presidente francés, Emmanuel Macron, hizo un ajuste radical en su gabinete, que incluyó la remoción del primer ministro Édourad Phillipe, a quien, inmediatamente después, al igual que otro despedido, el ministro de Salud, Oliver Véran y su antecesora Agnès Byzyn, empezó a ser investigado por la justicia para determinar su grado de responsabilidad durante el brote de la pandemia. 90 denuncias se presentaron contra Phillipe, de las cuales se han analizado 53 y nueve de ellas fueron admitidas para la investigación, bajo el único cargo, “no luchar contra un desastre”.</p></p>, <p>La semana pasada, el presidente francés, Emmanuel Macron, hizo un ajuste radical en su gabinete, que incluyó la remoción del primer ministro Édourad Phillipe, a quien, inmediatamente después, al igual que otro despedido, el ministro de Salud, Oliver Véran y su antecesora Agnès Byzyn, empezó a ser investigado por la justicia para determinar su grado de responsabilidad durante el brote de la pandemia. 90 denuncias se presentaron contra Phillipe, de las cuales se han analizado 53 y nueve de ellas fueron admitidas para la investigación, bajo el único cargo, “no luchar contra un desastre”.</p>, <p><p>Aquí, López-Gatell, se podría argumentar, luchó por el desastre con  mensajes tales como no usar cubre bocas porque no servía para nada, o decir que la fuerza moral de López Obrador impedía que fuera contagiado. En Italia, donde no hubo estas estrafalarias declaraciones, la fiscalía de Bérgamo, la región más afectada, tomó la declaración del primer ministro, Guiseppe Conte, dentro de una investigación sobre el retraso del confinamiento de dos municipios de Lombardía. Aquí, ¿recuerdan cuando el Presidente pedía abrazarse y no dejar de salir cuando el contagio ya había comenzado? <br/> El subsecretario avaló todo, en una falta de ética institucional que tuvieron, en cambio, dos ministros de Salud en Brasil por discrepar con el presidente Jair Bolsonaro, que como López Obrador, minimizó la crisis. A uno, que lo enfrentó frontalmente, lo cesó; el segundo le renunció por “incompatibilidad” con el Ejecutivo. Pero López-Gatell, nos lo prueba cotidianamente, carece de esa dignidad. Primero queda bien con el Presidente, no lo incomoda ni contraviene, y después, lo que sea. </p></p>, <p>Aquí, López-Gatell, se podría argumentar, luchó por el desastre con  mensajes tales como no usar cubre bocas porque no servía para nada, o decir que la fuerza moral de López Obrador impedía que fuera contagiado. En Italia, donde no hubo estas estrafalarias declaraciones, la fiscalía de Bérgamo, la región más afectada, tomó la declaración del primer ministro, Guiseppe Conte, dentro de una investigación sobre el retraso del confinamiento de dos municipios de Lombardía. Aquí, ¿recuerdan cuando el Presidente pedía abrazarse y no dejar de salir cuando el contagio ya había comenzado? <br/> El subsecretario avaló todo, en una falta de ética institucional que tuvieron, en cambio, dos ministros de Salud en Brasil por discrepar con el presidente Jair Bolsonaro, que como López Obrador, minimizó la crisis. A uno, que lo enfrentó frontalmente, lo cesó; el segundo le renunció por “incompatibilidad” con el Ejecutivo. Pero López-Gatell, nos lo prueba cotidianamente, carece de esa dignidad. Primero queda bien con el Presidente, no lo incomoda ni contraviene, y después, lo que sea. </p>, <p><p>No está solo. Las mayorías de Morena en las cámaras están igual y frenarán cualquier intento de investigación. La forma como lo han tratado en sus comparecencias y permitido su insolencia e irrespeto por un poder del Estado, refleja el enanismo legislativo y la impunidad con la que se siente el subsecretario. Del Poder Judicial tampoco hay que esperar nada mientras siga su presidente apologista del proyecto de López Obrador -a cuyo equipo le debe el puesto-, que frenaría eventuales demandas, si se siguiera el ejemplo de Francia. Es decir, institucionalmente no hay mucho que hacer, porque los espacios de los contrapesos fueron colonizados por López Obrador.</p></p>, <p>No está solo. Las mayorías de Morena en las cámaras están igual y frenarán cualquier intento de investigación. La forma como lo han tratado en sus comparecencias y permitido su insolencia e irrespeto por un poder del Estado, refleja el enanismo legislativo y la impunidad con la que se siente el subsecretario. Del Poder Judicial tampoco hay que esperar nada mientras siga su presidente apologista del proyecto de López Obrador -a cuyo equipo le debe el puesto-, que frenaría eventuales demandas, si se siguiera el ejemplo de Francia. Es decir, institucionalmente no hay mucho que hacer, porque los espacios de los contrapesos fueron colonizados por López Obrador.</p>, <p><p>Investigar a López-Gatell es un objetivo que debe seguir impulsándose, aunque el Estado no esté funcionando. Hay que pujar por la responsabilidad institucional de instituciones que quieren convertirse en bananeras. <br/>  </p></p>, <p>Investigar a López-Gatell es un objetivo que debe seguir impulsándose, aunque el Estado no esté funcionando. Hay que pujar por la responsabilidad institucional de instituciones que quieren convertirse en bananeras. <br/>  </p>, <p> El Informador :: Noticias de Jalisco, México, Deportes &amp; Entretenimiento® es marca registrada © Unión Editorialista, S.A. de C.V. 2008-2017 <br/><span> <a href=\"/pages/politicas-de-privacidad.html\" title=\"Aviso de Privacidad\">Aviso de Privacidad</a> | <a href=\"/pages/derecho-replica.html\" title=\"Derecho de Réplica\">Derecho de Réplica</a> | <a href=\"/pages/terminos-y-condiciones.html\" title=\"Términos y Condiciones\">Términos y Condiciones</a></span></p>]\n"
          ],
          "name": "stdout"
        }
      ]
    },
    {
      "cell_type": "code",
      "metadata": {
        "id": "MxYOUkC1Dvbz",
        "colab_type": "code",
        "colab": {
          "base_uri": "https://localhost:8080/",
          "height": 34
        },
        "outputId": "8a47a21b-d4d9-42ed-92cd-72fd12d2fffc"
      },
      "source": [
        "len(soup_list)"
      ],
      "execution_count": 44,
      "outputs": [
        {
          "output_type": "execute_result",
          "data": {
            "text/plain": [
              "4"
            ]
          },
          "metadata": {
            "tags": []
          },
          "execution_count": 44
        }
      ]
    },
    {
      "cell_type": "code",
      "metadata": {
        "id": "DR9-f43XEqP9",
        "colab_type": "code",
        "colab": {}
      },
      "source": [
        ""
      ],
      "execution_count": null,
      "outputs": []
    }
  ]
}