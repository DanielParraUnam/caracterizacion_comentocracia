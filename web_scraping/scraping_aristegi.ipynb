{
 "cells": [
  {
   "cell_type": "code",
   "execution_count": 1,
   "metadata": {},
   "outputs": [],
   "source": [
    "import requests # pip install requests\n",
    "from lxml import html # pip install lxml\n",
    "import requests\n",
    "from bs4 import BeautifulSoup # pip install beautifulsoup4"
   ]
  },
  {
   "cell_type": "code",
   "execution_count": 2,
   "metadata": {},
   "outputs": [],
   "source": [
    "aristegui='https://aristeguinoticias.com/0107/investigaciones-especiales/siap-un-sistema-fracturado/'"
   ]
  },
  {
   "cell_type": "code",
   "execution_count": 3,
   "metadata": {},
   "outputs": [],
   "source": [
    "# USER AGENT PARA PROTEGERNOS DE BANEOS\n",
    "headers = {\n",
    "    \"user-agent\": \"Mozilla/5.0 (X11; Linux x86_64) AppleWebKit/537.36 (KHTML, like Gecko) Ubuntu Chromium/71.0.3578.80 Chrome/71.0.3578.80 Safari/537.36\",\n",
    "}\n",
    "\n",
    "# URL SEMILLA\n",
    "url = aristegui\n",
    "\n",
    "# REQUERIMIENTO AL SERVIDOR\n",
    "respuesta = requests.get(url, headers=headers)\n",
    "\n",
    "# PARSEO DEL ARBOL CON BEAUTIFUL SOUP\n",
    "soup = BeautifulSoup(respuesta.text)"
   ]
  },
  {
   "cell_type": "markdown",
   "metadata": {},
   "source": [
    "## Observa que no se obtuvo todo el texto\n",
    "\n",
    "Después de la celda de abajo se especifica mas"
   ]
  },
  {
   "cell_type": "code",
   "execution_count": 9,
   "metadata": {},
   "outputs": [
    {
     "data": {
      "text/plain": [
       "<!DOCTYPE html>\n",
       "<html lang=\"es\">\n",
       "<head>\n",
       "<link href=\"//www.google-analytics.com\" rel=\"dns-prefetch\"/>\n",
       "<link href=\"//www.googletagmanager.com\" rel=\"dns-prefetch\"/>\n",
       "<link href=\"//www.googletagservices.com\" rel=\"dns-prefetch\"/>\n",
       "<link href=\"//securepubads.g.doubleclick.net\" rel=\"dns-prefetch\"/>\n",
       "<link href=\"//googleads.g.doubleclick.net\" rel=\"dns-prefetch\"/>\n",
       "<link href=\"//fonts.googleapis.com\" rel=\"dns-prefetch\"/>\n",
       "<link href=\"//c.amazon-adsystem.com\" rel=\"dns-prefetch\"/>\n",
       "<link href=\"//sb.scorecardresearch.com\" rel=\"dns-prefetch\"/>\n",
       "<link href=\"//login.aristeguinoticias.com\" rel=\"dns-prefetch\"/>\n",
       "<link href=\"//cdn.jwplayer.com\" rel=\"dns-prefetch\"/>\n",
       "<link href=\"//cdn.insurads.com\" rel=\"dns-prefetch\"/>\n",
       "<script async=\"\" src=\"https://www.googletagmanager.com/gtag/js?id=UA-30387439-1\" type=\"636cda65a5190e6aabc9565e-text/javascript\"></script>\n",
       "<script type=\"636cda65a5190e6aabc9565e-text/javascript\">\n",
       "        window.dataLayer = window.dataLayer || [];\n",
       "\n",
       "        function gtag() {\n",
       "            dataLayer.push(arguments);\n",
       "        }\n",
       "        gtag('js', new Date());\n",
       "        gtag('config', 'UA-30387439-1', {\n",
       "            'send_page_view': false\n",
       "        });\n",
       "    </script>\n",
       "<meta charset=\"utf-8\"/>\n",
       "<title>Aristegui Noticias | Desde cualquier medio, periodismo en libertad </title>\n",
       "<base href=\"/\"/>\n",
       "<meta content=\"width=device-width, initial-scale=1, user-scalable=no\" name=\"viewport\"/>\n",
       "<meta content=\"InformaciÃ³n y anÃ¡lisis en lÃ­nea de MÃ©xico y el mundo: noticias, polÃ­tica, elecciones, seguridad, sociedad y cultura. Entrevistas de Carmen Aristegui y opiniÃ³n.\" name=\"description\"/>\n",
       "<meta content=\"183919588401049\" property=\"fb:pages\"/>\n",
       "<meta content=\"297667261186825\" property=\"fb:app_id\"/>\n",
       "<meta content=\"website\" property=\"og:type\"/>\n",
       "<meta content=\"Aristegui Noticias\" property=\"og:title\"/>\n",
       "<meta content=\"Desde cualquier medio, periodismo en libertad\" property=\"og:description\"/>\n",
       "<meta content=\"https://aristeguinoticias.com/\" property=\"og:url\"/>\n",
       "<meta content=\"Aristegui Noticias\" property=\"og:site_name\"/>\n",
       "<meta content=\"https://aristeguinoticias.com/editorial/wp-content/uploads/2019/03/500x.png\" property=\"og:image\"/>\n",
       "<meta content=\"summary_large_image\" name=\"twitter:card\"/>\n",
       "<meta content=\"@AristeguiOnline\" name=\"twitter:site\"/>\n",
       "<meta content=\"aristeguinoticias.com\" name=\"twitter:domain\"/>\n",
       "<meta content=\"Aristegui Noticias\" name=\"twitter:title\"/>\n",
       "<meta content=\"Desde cualquier medio, periodismo en libertad\" name=\"twitter:description\"/>\n",
       "<meta content=\"https://aristeguinoticias.com/editorial/wp-content/uploads/2019/03/500x.png\" name=\"twitter:image\"/>\n",
       "<link href=\"./css/favicon.png\" rel=\"icon\" type=\"image/x-icon\"/>\n",
       "<link href=\"https://fonts.googleapis.com/css?family=Barlow+Condensed:300,400,600,700\" rel=\"stylesheet\"/>\n",
       "<link href=\"https://fonts.googleapis.com/css?family=Barlow+Semi+Condensed:300,400,600,700\" rel=\"stylesheet\"/>\n",
       "<link href=\"https://fonts.googleapis.com/css?family=Lato:300,400,600,700\" rel=\"stylesheet\"/>\n",
       "<link href=\"https://fonts.googleapis.com/icon?family=Material+Icons\" rel=\"stylesheet\"/>\n",
       "<script async=\"\" src=\"https://securepubads.g.doubleclick.net/tag/js/gpt.js\" type=\"636cda65a5190e6aabc9565e-text/javascript\"></script>\n",
       "<script async=\"\" src=\"https://aristeguinoticias.com/js/prebid3.19.0.js\" type=\"636cda65a5190e6aabc9565e-text/javascript\"></script>\n",
       "<script type=\"636cda65a5190e6aabc9565e-text/javascript\">\n",
       "        //load the apstag.js library\n",
       "        ! function(a9, a, p, s, t, A, g) {\n",
       "            if (a[a9]) return;\n",
       "\n",
       "            function q(c, r) {\n",
       "                a[a9]._Q.push([c, r])\n",
       "            }\n",
       "            a[a9] = {\n",
       "                init: function() {\n",
       "                    q(\"i\", arguments)\n",
       "                },\n",
       "                fetchBids: function() {\n",
       "                    q(\"f\", arguments)\n",
       "                },\n",
       "                setDisplayBids: function() {},\n",
       "                targetingKeys: function() {\n",
       "                    return []\n",
       "                },\n",
       "                _Q: []\n",
       "            };\n",
       "            A = p.createElement(s);\n",
       "            A.async = !0;\n",
       "            A.src = t;\n",
       "            g = p.getElementsByTagName(s)[0];\n",
       "            g.parentNode.insertBefore(A, g)\n",
       "        }(\"apstag\", window, document, \"script\", \"//c.amazon-adsystem.com/aax2/apstag.js\");\n",
       "    </script>\n",
       "<script async=\"\" src=\"https://cdn.jwplayer.com/libraries/ZEdaVvQl.js\" type=\"636cda65a5190e6aabc9565e-text/javascript\"></script>\n",
       "<script type=\"636cda65a5190e6aabc9565e-text/javascript\">\n",
       "        var _comscore = _comscore || [];\n",
       "        _comscore.push({\n",
       "            c1: \"2\",\n",
       "            c2: \"16900224\"\n",
       "        });\n",
       "        (function() {\n",
       "            var s = document.createElement(\"script\"),\n",
       "                el = document.getElementsByTagName(\"script\")[0];\n",
       "            s.async = true;\n",
       "            //s.src = (document.location.protocol == \"https:\" ? \"https://sb\" : \"http://b\") + \".scorecardresearch.com/beacon.js\";\n",
       "            s.src = \"https://sb.scorecardresearch.com/beacon.js\";\n",
       "            el.parentNode.insertBefore(s, el);\n",
       "        })();\n",
       "    </script>\n",
       "<noscript>\n",
       "<img src=\"https://sb.scorecardresearch.com/p?c1=2&amp;c2=16900224&amp;cv=2.0&amp;cj=1\"/>\n",
       "</noscript>\n",
       "<script async=\"\" src=\"https://cdn.insurads.com/bootstrap/5UO3Z2BF.js\" type=\"636cda65a5190e6aabc9565e-text/javascript\"></script>\n",
       "<link href=\"styles.34ac3d94505d6de2c226.css\" rel=\"stylesheet\"/></head>\n",
       "<body>\n",
       "<app-root>\n",
       "<div style=\"display:flex; flex-direction:column; position:fixed; width:100%; height:100%; justify-content: center; align-items: center;\">\n",
       "<img alt=\"Aristegui Noticias\" class=\"img-fluid\" src=\"https://aristeguinoticias.com/editorial/wp-content/uploads/2019/03/500x.png\" width=\"100\"/>\n",
       "<img alt=\"Cargando\" class=\"loaderinit\" src=\"assets/images/Eclipse-1s-150px.svg\" style=\"position:absolute;\" width=\"150\"/>\n",
       "</div>\n",
       "</app-root>\n",
       "<script src=\"https://login.aristeguinoticias.com/static/embed.js\" type=\"636cda65a5190e6aabc9565e-text/javascript\"></script>\n",
       "<script type=\"636cda65a5190e6aabc9565e-text/javascript\">\n",
       "        var _at = {};\n",
       "        window._at.track = window._at.track || function() {\n",
       "            (window._at.track.q = window._at.track.q || []).push(arguments);\n",
       "        };\n",
       "        _at.domain = 'aristeguinoticias.com/';\n",
       "        _at.owner = 'f1e8009618e5';\n",
       "        _at.idSite = '16223';\n",
       "        _at.attributes = {};\n",
       "        _at.webpushid = 'web.29.aimtell.com';\n",
       "        (function() {\n",
       "            var u = '//s3.amazonaws.com/cdn.aimtell.com/trackpush/';\n",
       "            var d = document,\n",
       "                g = d.createElement('script'),\n",
       "                s = d.getElementsByTagName('script')[0];\n",
       "            g.type = 'text/javascript';\n",
       "            g.async = true;\n",
       "            g.defer = true;\n",
       "            g.src = u + 'trackpush.min.js';\n",
       "            s.parentNode.insertBefore(g, s);\n",
       "        })();\n",
       "    </script>\n",
       "<script defer=\"\" src=\"runtime.a8ef3a8272419c2e2c66.js\" type=\"636cda65a5190e6aabc9565e-text/javascript\"></script><script defer=\"\" nomodule=\"\" src=\"polyfills-es5.ba986c60fe1d167523d4.js\" type=\"636cda65a5190e6aabc9565e-text/javascript\"></script><script defer=\"\" src=\"polyfills.6531168c1025ae94b804.js\" type=\"636cda65a5190e6aabc9565e-text/javascript\"></script><script defer=\"\" src=\"scripts.283183af5a3027be6590.js\" type=\"636cda65a5190e6aabc9565e-text/javascript\"></script><script defer=\"\" src=\"main.0376da569ac758498044.js\" type=\"636cda65a5190e6aabc9565e-text/javascript\"></script><script data-cf-settings=\"636cda65a5190e6aabc9565e-|49\" defer=\"\" src=\"https://ajax.cloudflare.com/cdn-cgi/scripts/7089c43e/cloudflare-static/rocket-loader.min.js\"></script></body>\n",
       "</html>"
      ]
     },
     "execution_count": 9,
     "metadata": {},
     "output_type": "execute_result"
    }
   ],
   "source": [
    "soup"
   ]
  },
  {
   "cell_type": "markdown",
   "metadata": {},
   "source": [
    "## La info que falta está en el tag \\<div> :"
   ]
  },
  {
   "cell_type": "code",
   "execution_count": 5,
   "metadata": {},
   "outputs": [
    {
     "data": {
      "text/plain": [
       "<div style=\"display:flex; flex-direction:column; position:fixed; width:100%; height:100%; justify-content: center; align-items: center;\">\n",
       "<img alt=\"Aristegui Noticias\" class=\"img-fluid\" src=\"https://aristeguinoticias.com/editorial/wp-content/uploads/2019/03/500x.png\" width=\"100\"/>\n",
       "<img alt=\"Cargando\" class=\"loaderinit\" src=\"assets/images/Eclipse-1s-150px.svg\" style=\"position:absolute;\" width=\"150\"/>\n",
       "</div>"
      ]
     },
     "execution_count": 5,
     "metadata": {},
     "output_type": "execute_result"
    }
   ],
   "source": [
    "soup.div"
   ]
  },
  {
   "cell_type": "markdown",
   "metadata": {},
   "source": [
    "from urllib.request import Request, urlopen\n",
    "from bs4 import BeautifulSoup"
   ]
  },
  {
   "cell_type": "markdown",
   "metadata": {},
   "source": [
    "## posible sol\n",
    "\n",
    "https://stackoverflow.com/q/48513576/9934348"
   ]
  },
  {
   "cell_type": "markdown",
   "metadata": {},
   "source": [
    "url = aristegui\n",
    "req = Request(url,headers={'User-Agent': 'Mozilla/5.0'})\n",
    "webpage = urlopen(req).read()\n",
    "print(webpage)"
   ]
  },
  {
   "cell_type": "code",
   "execution_count": null,
   "metadata": {},
   "outputs": [],
   "source": []
  }
 ],
 "metadata": {
  "kernelspec": {
   "display_name": "Python 3",
   "language": "python",
   "name": "python3"
  },
  "language_info": {
   "codemirror_mode": {
    "name": "ipython",
    "version": 3
   },
   "file_extension": ".py",
   "mimetype": "text/x-python",
   "name": "python",
   "nbconvert_exporter": "python",
   "pygments_lexer": "ipython3",
   "version": "3.6.9"
  }
 },
 "nbformat": 4,
 "nbformat_minor": 4
}
