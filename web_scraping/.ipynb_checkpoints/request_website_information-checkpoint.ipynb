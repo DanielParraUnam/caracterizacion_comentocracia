{
 "cells": [
  {
   "cell_type": "code",
   "execution_count": 1,
   "metadata": {},
   "outputs": [],
   "source": [
    "import re\n",
    "import requests\n",
    "import urllib.request, urllib.error, urllib.parse\n",
    "from bs4 import BeautifulSoup"
   ]
  },
  {
   "cell_type": "code",
   "execution_count": 2,
   "metadata": {},
   "outputs": [],
   "source": [
    "forbes = 'https://www.forbes.com/sites/kenrapoza/2019/04/24/amlos-mexico-no-need-to-be-terrified/#7515d69c1428'\n",
    "aristegui='https://aristeguinoticias.com/0107/investigaciones-especiales/siap-un-sistema-fracturado/'"
   ]
  },
  {
   "cell_type": "code",
   "execution_count": 3,
   "metadata": {},
   "outputs": [],
   "source": [
    "headers = {\"User-Agent\": \"Mozilla/5.0 (Windows NT 10.0; WOW64) AppleWebKit/537.36 (KHTML, like Gecko) Chrome/47.0.2526.106 Safari/537.36\"}"
   ]
  },
  {
   "cell_type": "markdown",
   "metadata": {},
   "source": [
    "# urllib"
   ]
  },
  {
   "cell_type": "code",
   "execution_count": 4,
   "metadata": {},
   "outputs": [
    {
     "data": {
      "text/plain": [
       "['<!doctype html>\\n',\n",
       " '<html lang=\"es\">\\n',\n",
       " '<head>\\n',\n",
       " '<link href=\"//www.google-analytics.com\" rel=\"dns-prefetch\">\\n',\n",
       " '<link href=\"//www.googletagmanager.com\" rel=\"dns-prefetch\">\\n',\n",
       " '<link href=\"//www.googletagservices.com\" rel=\"dns-prefetch\">\\n',\n",
       " '<link href=\"//securepubads.g.doubleclick.net\" rel=\"dns-prefetch\">\\n',\n",
       " '<link href=\"//googleads.g.doubleclick.net\" rel=\"dns-prefetch\">\\n',\n",
       " '<link href=\"//fonts.googleapis.com\" rel=\"dns-prefetch\">\\n',\n",
       " '<link href=\"//c.amazon-adsystem.com\" rel=\"dns-prefetch\">\\n',\n",
       " '<link href=\"//sb.scorecardresearch.com\" rel=\"dns-prefetch\">\\n',\n",
       " '<link href=\"//login.aristeguinoticias.com\" rel=\"dns-prefetch\">\\n',\n",
       " '<link href=\"//cdn.jwplayer.com\" rel=\"dns-prefetch\">\\n',\n",
       " '<link href=\"//cdn.insurads.com\" rel=\"dns-prefetch\">\\n',\n",
       " '<script async src=\"https://www.googletagmanager.com/gtag/js?id=UA-30387439-1\" type=\"b4242918a82edd00cdc171aa-text/javascript\"></script>\\n',\n",
       " '<script type=\"b4242918a82edd00cdc171aa-text/javascript\">\\n',\n",
       " '        window.dataLayer = window.dataLayer || [];\\n',\n",
       " '\\n',\n",
       " '        function gtag() {\\n',\n",
       " '            dataLayer.push(arguments);\\n']"
      ]
     },
     "execution_count": 4,
     "metadata": {},
     "output_type": "execute_result"
    }
   ],
   "source": [
    "req= urllib.request.Request(aristegui,headers=headers)\n",
    "response = urllib.request.urlopen(req)\n",
    "lines_html=[line for line in response]\n",
    "lines_texts=[text.decode() for text in lines_html]\n",
    "\n",
    "lines_texts[:20]"
   ]
  },
  {
   "cell_type": "markdown",
   "metadata": {},
   "source": [
    "The info() method returns an instance of the class mimetools.Message containing meta-information associated with the URL"
   ]
  },
  {
   "cell_type": "code",
   "execution_count": 5,
   "metadata": {},
   "outputs": [
    {
     "name": "stdout",
     "output_type": "stream",
     "text": [
      "Date: Thu, 16 Jul 2020 08:44:32 GMT\n",
      "Content-Type: text/html\n",
      "Transfer-Encoding: chunked\n",
      "Connection: close\n",
      "Set-Cookie: __cfduid=d1591f9d4a5f2fdc0e5b15b060b9da49b1594889071; expires=Sat, 15-Aug-20 08:44:31 GMT; path=/; domain=.aristeguinoticias.com; HttpOnly; SameSite=Lax\n",
      "Vary: Accept-Encoding\n",
      "Vary: Accept-Encoding\n",
      "Last-Modified: Sun, 12 Jul 2020 04:31:27 GMT\n",
      "X-Powered-By: WP Engine\n",
      "X-Cacheable: SHORT\n",
      "Vary: Accept-Encoding,Cookie\n",
      "Cache-Control: max-age=600, must-revalidate\n",
      "X-Cache: HIT: 4\n",
      "X-Cache-Group: normal\n",
      "CF-Cache-Status: DYNAMIC\n",
      "cf-request-id: 03f86504eb000004f3aca05200000001\n",
      "Expect-CT: max-age=604800, report-uri=\"https://report-uri.cloudflare.com/cdn-cgi/beacon/expect-ct\"\n",
      "Server: cloudflare\n",
      "CF-RAY: 5b3a711b1ad104f3-LAX\n",
      "\n",
      "\n"
     ]
    }
   ],
   "source": [
    "print(response.info())"
   ]
  },
  {
   "cell_type": "markdown",
   "metadata": {},
   "source": [
    "# BeautifulSoup"
   ]
  },
  {
   "cell_type": "code",
   "execution_count": 6,
   "metadata": {},
   "outputs": [],
   "source": [
    "r = requests.get(aristegui,headers=headers)"
   ]
  },
  {
   "cell_type": "code",
   "execution_count": 7,
   "metadata": {},
   "outputs": [
    {
     "data": {
      "text/plain": [
       "'<!doctype html>\\n<html lang=\"es\">\\n<head>\\n<link href=\"//www.google-analytics.com\" rel=\"dns-prefetch\">\\n<link href=\"//www.googletagmanager.com\" rel=\"dns-prefetch\">\\n<link href=\"//www.googletagservices.com\" rel=\"dns-prefetch\">\\n<link href=\"//securepubads.g.doubleclick.net\" rel=\"dns-prefetch\">\\n<link href=\"//googleads.g.doubleclick.net\" rel=\"dns-prefetch\">\\n<link href=\"//fonts.googleapis.com\" rel=\"dns-prefetch\">\\n<link href=\"//c.amazon-adsystem.com\" rel=\"dns-prefetch\">\\n<link href=\"//sb.scorecardresearch.com\" rel=\"dns-prefetch\">\\n<link href=\"//login.aristeguinoticias.com\" rel=\"dns-prefetch\">\\n<link href=\"//cdn.jwplayer.com\" rel=\"dns-prefetch\">\\n<link href=\"//cdn.insurads.com\" rel=\"dns-prefetch\">\\n<script async src=\"https://www.googletagmanager.com/gtag/js?id=UA-30387439-1\" type=\"19acba871cd0f14650709d85-text/javascript\"></script>\\n<script type=\"19acba871cd0f14650709d85-text/javascript\">\\n        window.dataLayer = window.dataLayer || [];\\n\\n        function gtag() {\\n            dataLayer.push(arguments);\\n        }\\n        gtag(\\'js\\', new Date());\\n        gtag(\\'config\\', \\'UA-30387439-1\\', {\\n            \\'send_page_view\\': false\\n        });\\n    </script>\\n<meta charset=\"utf-8\">\\n<title>Aristegui Noticias | Desde cualquier medio, periodismo en libertad </title>\\n<base href=\"/\">\\n<meta name=\"viewport\" content=\"width=device-width, initial-scale=1, user-scalable=no\">\\n<meta name=\"description\" content=\"InformaciÃ³n y anÃ¡lisis en lÃ\\xadnea de MÃ©xico y el mundo: noticias, polÃ\\xadtica, elecciones, seguridad, sociedad y cultura. Entrevistas de Carmen Aristegui y opiniÃ³n.\" />\\n<meta property=\"fb:pages\" content=\"183919588401049\" />\\n<meta property=\"fb:app_id\" content=\"297667261186825\" />\\n<meta property=\"og:type\" content=\"website\" />\\n<meta property=\"og:title\" content=\"Aristegui Noticias\" />\\n<meta property=\"og:description\" content=\"Desde cualquier medio, periodismo en libertad\" />\\n<meta property=\"og:url\" content=\"https://aristeguinoticias.com/\" />\\n<meta property=\"og:site_name\" content=\"Aristegui Noticias\" />\\n<meta property=\"og:image\" content=\"https://aristeguinoticias.com/editorial/wp-content/uploads/2019/03/500x.png\" />\\n<meta name=\"twitter:card\" content=\"summary_large_image\" />\\n<meta name=\"twitter:site\" content=\"@AristeguiOnline\" />\\n<meta name=\"twitter:domain\" content=\"aristeguinoticias.com\" />\\n<meta name=\"twitter:title\" content=\"Aristegui Noticias\" />\\n<meta name=\"twitter:description\" content=\"Desde cualquier medio, periodismo en libertad\" />\\n<meta name=\"twitter:image\" content=\"https://aristeguinoticias.com/editorial/wp-content/uploads/2019/03/500x.png\" />\\n<link rel=\"icon\" type=\"image/x-icon\" href=\"./css/favicon.png\">\\n<link href=\"https://fonts.googleapis.com/css?family=Barlow+Condensed:300,400,600,700\" rel=\"stylesheet\">\\n<link href=\"https://fonts.googleapis.com/css?family=Barlow+Semi+Condensed:300,400,600,700\" rel=\"stylesheet\">\\n<link href=\"https://fonts.googleapis.com/css?family=Lato:300,400,600,700\" rel=\"stylesheet\">\\n<link rel=\"stylesheet\" href=\"https://fonts.googleapis.com/icon?family=Material+Icons\">\\n\\n\\n<script async src=\"https://securepubads.g.doubleclick.net/tag/js/gpt.js\" type=\"19acba871cd0f14650709d85-text/javascript\"></script>\\n<script async src=\"https://aristeguinoticias.com/js/prebid3.19.0.js\" type=\"19acba871cd0f14650709d85-text/javascript\"></script>\\n\\n\\n\\n<script type=\"19acba871cd0f14650709d85-text/javascript\">\\n        //load the apstag.js library\\n        ! function(a9, a, p, s, t, A, g) {\\n            if (a[a9]) return;\\n\\n            function q(c, r) {\\n                a[a9]._Q.push([c, r])\\n            }\\n            a[a9] = {\\n                init: function() {\\n                    q(\"i\", arguments)\\n                },\\n                fetchBids: function() {\\n                    q(\"f\", arguments)\\n                },\\n                setDisplayBids: function() {},\\n                targetingKeys: function() {\\n                    return []\\n                },\\n                _Q: []\\n            };\\n            A = p.createElement(s);\\n            A.async = !0;\\n            A.src = t;\\n            g = p.getElementsByTagName(s)[0];\\n            g.parentNode.insertBefore(A, g)\\n        }(\"apstag\", window, document, \"script\", \"//c.amazon-adsystem.com/aax2/apstag.js\");\\n    </script>\\n\\n\\n<script async src=\"https://cdn.jwplayer.com/libraries/ZEdaVvQl.js\" type=\"19acba871cd0f14650709d85-text/javascript\"></script>\\n\\n<script type=\"19acba871cd0f14650709d85-text/javascript\">\\n        var _comscore = _comscore || [];\\n        _comscore.push({\\n            c1: \"2\",\\n            c2: \"16900224\"\\n        });\\n        (function() {\\n            var s = document.createElement(\"script\"),\\n                el = document.getElementsByTagName(\"script\")[0];\\n            s.async = true;\\n            //s.src = (document.location.protocol == \"https:\" ? \"https://sb\" : \"http://b\") + \".scorecardresearch.com/beacon.js\";\\n            s.src = \"https://sb.scorecardresearch.com/beacon.js\";\\n            el.parentNode.insertBefore(s, el);\\n        })();\\n    </script>\\n<noscript>\\n        <img src=\"https://sb.scorecardresearch.com/p?c1=2&c2=16900224&cv=2.0&cj=1\" />\\n    </noscript>\\n\\n<script async src=\"https://cdn.insurads.com/bootstrap/5UO3Z2BF.js\" type=\"19acba871cd0f14650709d85-text/javascript\"></script>\\n<link rel=\"stylesheet\" href=\"styles.34ac3d94505d6de2c226.css\"></head>\\n<body>\\n<app-root>\\n<div style=\"display:flex; flex-direction:column; position:fixed; width:100%; height:100%; justify-content: center; align-items: center;\">\\n<img width=\"100\" class=\"img-fluid\" src=\"https://aristeguinoticias.com/editorial/wp-content/uploads/2019/03/500x.png\" alt=\"Aristegui Noticias\">\\n<img width=\"150\" style=\"position:absolute;\" class=\"loaderinit\" src=\"assets/images/Eclipse-1s-150px.svg\" alt=\"Cargando\">\\n</div>\\n</app-root>\\n\\n\\n\\n<script src=\"https://login.aristeguinoticias.com/static/embed.js\" type=\"19acba871cd0f14650709d85-text/javascript\"></script>\\n\\n<script type=\"19acba871cd0f14650709d85-text/javascript\">\\n        var _at = {};\\n        window._at.track = window._at.track || function() {\\n            (window._at.track.q = window._at.track.q || []).push(arguments);\\n        };\\n        _at.domain = \\'aristeguinoticias.com/\\';\\n        _at.owner = \\'f1e8009618e5\\';\\n        _at.idSite = \\'16223\\';\\n        _at.attributes = {};\\n        _at.webpushid = \\'web.29.aimtell.com\\';\\n        (function() {\\n            var u = \\'//s3.amazonaws.com/cdn.aimtell.com/trackpush/\\';\\n            var d = document,\\n                g = d.createElement(\\'script\\'),\\n                s = d.getElementsByTagName(\\'script\\')[0];\\n            g.type = \\'text/javascript\\';\\n            g.async = true;\\n            g.defer = true;\\n            g.src = u + \\'trackpush.min.js\\';\\n            s.parentNode.insertBefore(g, s);\\n        })();\\n    </script>\\n\\n<script src=\"runtime.a8ef3a8272419c2e2c66.js\" defer type=\"19acba871cd0f14650709d85-text/javascript\"></script><script src=\"polyfills-es5.ba986c60fe1d167523d4.js\" nomodule defer type=\"19acba871cd0f14650709d85-text/javascript\"></script><script src=\"polyfills.6531168c1025ae94b804.js\" defer type=\"19acba871cd0f14650709d85-text/javascript\"></script><script src=\"scripts.283183af5a3027be6590.js\" defer type=\"19acba871cd0f14650709d85-text/javascript\"></script><script src=\"main.0376da569ac758498044.js\" defer type=\"19acba871cd0f14650709d85-text/javascript\"></script><script src=\"https://ajax.cloudflare.com/cdn-cgi/scripts/7089c43e/cloudflare-static/rocket-loader.min.js\" data-cf-settings=\"19acba871cd0f14650709d85-|49\" defer=\"\"></script></body>\\n</html>'"
      ]
     },
     "execution_count": 7,
     "metadata": {},
     "output_type": "execute_result"
    }
   ],
   "source": [
    "r.text"
   ]
  }
 ],
 "metadata": {
  "kernelspec": {
   "display_name": "Python 3",
   "language": "python",
   "name": "python3"
  },
  "language_info": {
   "codemirror_mode": {
    "name": "ipython",
    "version": 3
   },
   "file_extension": ".py",
   "mimetype": "text/x-python",
   "name": "python",
   "nbconvert_exporter": "python",
   "pygments_lexer": "ipython3",
   "version": "3.6.9"
  }
 },
 "nbformat": 4,
 "nbformat_minor": 4
}
