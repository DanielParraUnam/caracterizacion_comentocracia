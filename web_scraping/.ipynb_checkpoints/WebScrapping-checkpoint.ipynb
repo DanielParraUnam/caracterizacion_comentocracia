{
 "cells": [
  {
   "cell_type": "code",
   "execution_count": 1,
   "metadata": {
    "colab": {},
    "colab_type": "code",
    "id": "3J0QLEQC8DY8"
   },
   "outputs": [],
   "source": [
    "#Librerias para poder interactuar con la www/http\n",
    "#https://towardsdatascience.com/how-to-web-scrape-with-python-in-4-minutes-bc49186a8460\n",
    "\n",
    "import requests\n",
    "import urllib.request\n",
    "import time\n",
    "from bs4 import BeautifulSoup"
   ]
  },
  {
   "cell_type": "code",
   "execution_count": 2,
   "metadata": {
    "colab": {
     "base_uri": "https://localhost:8080/",
     "height": 85
    },
    "colab_type": "code",
    "id": "-kaiEMnG8sSQ",
    "outputId": "6bca5ae6-5f5e-44cd-dd79-f413eb29331e"
   },
   "outputs": [],
   "source": [
    "#Almcenamos las url que nos interesa investigar\n",
    "\"\"\"\n",
    "url_list = [\"https://cnnespanol.cnn.com/video/lopez-gatell-uso-cubrebocas-contagio-coronavirus-prevencion-covid19-perspectivas-mexico/\",\n",
    "            \"https://www.tvnotas.com.mx/noticias-noticias-mexico/lopez-gatell-se-esta-reduciendo-la-velocidad-de-crecimiento-de-la-epidemia\",\n",
    "            \"https://www.meganoticias.mx/cdmx/noticia/no-hay-enconos-con-los-gobernadores-lopez-gatell/164794\",\n",
    "            \"https://www.informador.mx/ideas/Se-debe-investigar-a-Lopez-Gatell-20200706-0009.html\"]\n",
    "\"\"\"\n",
    "url_list=['https://aristeguinoticias.com/0107/investigaciones-especiales/siap-un-sistema-fracturado/']\n",
    "\n"
   ]
  },
  {
   "cell_type": "code",
   "execution_count": 3,
   "metadata": {
    "colab": {},
    "colab_type": "code",
    "id": "CkiZq15h97hb"
   },
   "outputs": [],
   "source": [
    "#Obtenemos el html de la página web que contiene la lista\n",
    "soup_list = []\n",
    "reponse_list = []\n",
    "for url in url_list:\n",
    "  aux = requests.get(url)\n",
    "  reponse_list.append(requests.get(url))\n",
    "  soup_list.append(BeautifulSoup(aux.text, \"html.parser\"))"
   ]
  },
  {
   "cell_type": "code",
   "execution_count": 4,
   "metadata": {
    "colab": {
     "base_uri": "https://localhost:8080/",
     "height": 102
    },
    "colab_type": "code",
    "id": "hIv8nPeW-FPu",
    "outputId": "a7d7547c-a649-4e44-a40a-bca9f3dffa29"
   },
   "outputs": [
    {
     "name": "stdout",
     "output_type": "stream",
     "text": [
      "<title>403 Forbidden</title>\n"
     ]
    }
   ],
   "source": [
    "#Podemos ahora manipular la página web en función de las etiquetas de HTML\n",
    "#Vamos a imprimir el título de cada uno de los noticieros que se agregaron a la lista\n",
    "for indice in range(len(soup_list)):\n",
    "  print(soup_list[indice]('title')[0])"
   ]
  },
  {
   "cell_type": "markdown",
   "metadata": {
    "colab_type": "text",
    "id": "-MZuCbefCIam"
   },
   "source": [
    "Un <b>HTML</b> es un lenguaje de etiquetas. \n",
    "HTML sólo es la estructura de la página web, es decir, esta contiene el texto de la página y las instrucciones necesarias para colocar el texto en cierta posición y con cierto estilo o animaciones; estas últimas obtenidas usando CSS y JS.\n",
    "\n",
    "La forma más simple de una página HTML incluye \n",
    "  Encabezado: El título que aparece en las pestañas, aquí también se exportan los estilos y las animaciones, así como propiedades del lenguaje.\n",
    "  Cuerpo: Es el contenido de la pagina, aquí se coloca todo lo que se quiera poner en la página web.\n",
    "\n",
    "Dentro de la página web hay etiquetas que resaltan como:\n",
    "  Titulo: Se asigna a los encabezados\n",
    "  a: es una etiqueta de enlace, usualmente los hipervinculos están ligados con la etiqueta a.\n",
    "  h1,h2,...: Al igual que el titulo son etiquetas que buscan resaltar algun texto\n",
    "  p: Son etiquetas de parrafo, en general todos los textos largos se busca separar haciendo uso de estas etiquetas.\n",
    "\n",
    "Sin embargo es importante señalar que la estructura que se menciona puede no ser respetada por algunos desarrolladores, ya que HTML te da la libertad de asignarle el nombre que más te guste al etiquetado, sin embargo es de buenas costumbres usar las etiquetas arriba señaladas."
   ]
  },
  {
   "cell_type": "code",
   "execution_count": 5,
   "metadata": {
    "colab": {
     "base_uri": "https://localhost:8080/",
     "height": 683
    },
    "colab_type": "code",
    "id": "_NZoPAKO_PuO",
    "outputId": "77c6b58b-0b78-4448-c163-7e948acf0b2c"
   },
   "outputs": [
    {
     "name": "stdout",
     "output_type": "stream",
     "text": [
      "0\n",
      "[]\n"
     ]
    }
   ],
   "source": [
    "#Buscamos e imprimimos el contenido de cada una de las páginas\n",
    "for indice in range(len(soup_list)):\n",
    "  print(indice)\n",
    "  print(soup_list[indice]('p'))"
   ]
  },
  {
   "cell_type": "code",
   "execution_count": 6,
   "metadata": {
    "colab": {
     "base_uri": "https://localhost:8080/",
     "height": 34
    },
    "colab_type": "code",
    "id": "MxYOUkC1Dvbz",
    "outputId": "8a47a21b-d4d9-42ed-92cd-72fd12d2fffc"
   },
   "outputs": [
    {
     "data": {
      "text/plain": [
       "1"
      ]
     },
     "execution_count": 6,
     "metadata": {},
     "output_type": "execute_result"
    }
   ],
   "source": [
    "len(soup_list)"
   ]
  },
  {
   "cell_type": "code",
   "execution_count": null,
   "metadata": {
    "colab": {},
    "colab_type": "code",
    "id": "DR9-f43XEqP9"
   },
   "outputs": [],
   "source": []
  }
 ],
 "metadata": {
  "colab": {
   "name": "WebScrapping.ipynb",
   "provenance": []
  },
  "kernelspec": {
   "display_name": "Python 3",
   "language": "python",
   "name": "python3"
  },
  "language_info": {
   "codemirror_mode": {
    "name": "ipython",
    "version": 3
   },
   "file_extension": ".py",
   "mimetype": "text/x-python",
   "name": "python",
   "nbconvert_exporter": "python",
   "pygments_lexer": "ipython3",
   "version": "3.6.9"
  }
 },
 "nbformat": 4,
 "nbformat_minor": 4
}
