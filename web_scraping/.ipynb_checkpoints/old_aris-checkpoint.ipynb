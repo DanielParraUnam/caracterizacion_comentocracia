{
 "cells": [
  {
   "cell_type": "code",
   "execution_count": 1,
   "metadata": {},
   "outputs": [],
   "source": [
    "import requests # pip install requests\n",
    "from lxml import html # pip install lxml\n",
    "import requests\n",
    "from bs4 import BeautifulSoup # pip install beautifulsoup4"
   ]
  },
  {
   "cell_type": "code",
   "execution_count": 2,
   "metadata": {},
   "outputs": [],
   "source": [
    "aristegui='https://aristeguinoticias.com/0107/investigaciones-especiales/siap-un-sistema-fracturado/'\n",
    "headers = { \"user-agent\": \"Mozilla/5.0 (X11; Linux x86_64) AppleWebKit/537.36 (KHTML, like Gecko) Ubuntu Chromium/71.0.3578.80 Chrome/71.0.3578.80 Safari/537.36\", }"
   ]
  },
  {
   "cell_type": "code",
   "execution_count": 3,
   "metadata": {},
   "outputs": [],
   "source": [
    "url = aristegui\n",
    "\n",
    "# REQUERIMIENTO AL SERVIDOR\n",
    "respuesta = requests.get(url, headers=headers)\n",
    "\n",
    "# PARSEO DEL ARBOL CON BEAUTIFUL SOUP\n",
    "soup = BeautifulSoup(respuesta.text)"
   ]
  },
  {
   "cell_type": "markdown",
   "metadata": {},
   "source": [
    "## Observa que no se obtuvo todo el texto\n",
    "\n",
    "Después de la celda de abajo se especifica mas"
   ]
  },
  {
   "cell_type": "code",
   "execution_count": 4,
   "metadata": {},
   "outputs": [
    {
     "data": {
      "text/plain": [
       "<!DOCTYPE html>\n",
       "<html lang=\"es\">\n",
       "<head>\n",
       "<link href=\"//www.google-analytics.com\" rel=\"dns-prefetch\"/>\n",
       "<link href=\"//www.googletagmanager.com\" rel=\"dns-prefetch\"/>\n",
       "<link href=\"//www.googletagservices.com\" rel=\"dns-prefetch\"/>\n",
       "<link href=\"//securepubads.g.doubleclick.net\" rel=\"dns-prefetch\"/>\n",
       "<link href=\"//googleads.g.doubleclick.net\" rel=\"dns-prefetch\"/>\n",
       "<link href=\"//fonts.googleapis.com\" rel=\"dns-prefetch\"/>\n",
       "<link href=\"//c.amazon-adsystem.com\" rel=\"dns-prefetch\"/>\n",
       "<link href=\"//sb.scorecardresearch.com\" rel=\"dns-prefetch\"/>\n",
       "<link href=\"//login.aristeguinoticias.com\" rel=\"dns-prefetch\"/>\n",
       "<link href=\"//cdn.insurads.com\" rel=\"dns-prefetch\"/>\n",
       "<script async=\"\" src=\"https://www.googletagmanager.com/gtag/js?id=UA-30387439-1\" type=\"21849cac3917c31007940dd5-text/javascript\"></script>\n",
       "<script type=\"21849cac3917c31007940dd5-text/javascript\">\n",
       "        window.dataLayer = window.dataLayer || [];\n",
       "\n",
       "        function gtag() {\n",
       "            dataLayer.push(arguments);\n",
       "        }\n",
       "        gtag('js', new Date());\n",
       "        gtag('config', 'UA-30387439-1', {\n",
       "            'send_page_view': false\n",
       "        });\n",
       "    </script>\n",
       "<meta charset=\"utf-8\"/>\n",
       "<title>Aristegui Noticias | Desde cualquier medio, periodismo en libertad </title>\n",
       "<base href=\"/\"/>\n",
       "<meta content=\"width=device-width, initial-scale=1, user-scalable=no\" name=\"viewport\"/>\n",
       "<meta content=\"InformaciÃ³n y anÃ¡lisis en lÃ­nea de MÃ©xico y el mundo: noticias, polÃ­tica, elecciones, seguridad, sociedad y cultura. Entrevistas de Carmen Aristegui y opiniÃ³n.\" name=\"description\"/>\n",
       "<meta content=\"183919588401049\" property=\"fb:pages\"/>\n",
       "<meta content=\"297667261186825\" property=\"fb:app_id\"/>\n",
       "<meta content=\"website\" property=\"og:type\"/>\n",
       "<meta content=\"Aristegui Noticias\" property=\"og:title\"/>\n",
       "<meta content=\"Desde cualquier medio, periodismo en libertad\" property=\"og:description\"/>\n",
       "<meta content=\"https://aristeguinoticias.com/\" property=\"og:url\"/>\n",
       "<meta content=\"Aristegui Noticias\" property=\"og:site_name\"/>\n",
       "<meta content=\"https://aristeguinoticias.com/editorial/wp-content/uploads/2019/03/500x.png\" property=\"og:image\"/>\n",
       "<meta content=\"summary_large_image\" name=\"twitter:card\"/>\n",
       "<meta content=\"@AristeguiOnline\" name=\"twitter:site\"/>\n",
       "<meta content=\"aristeguinoticias.com\" name=\"twitter:domain\"/>\n",
       "<meta content=\"Aristegui Noticias\" name=\"twitter:title\"/>\n",
       "<meta content=\"Desde cualquier medio, periodismo en libertad\" name=\"twitter:description\"/>\n",
       "<meta content=\"https://aristeguinoticias.com/editorial/wp-content/uploads/2019/03/500x.png\" name=\"twitter:image\"/>\n",
       "<link href=\"./css/favicon.png\" rel=\"icon\" type=\"image/x-icon\"/>\n",
       "<link href=\"https://fonts.googleapis.com/css?family=Barlow+Condensed:300,400,600,700&amp;display=swap\" rel=\"stylesheet\"/>\n",
       "<link href=\"https://fonts.googleapis.com/css?family=Barlow+Semi+Condensed:300,400,600,700&amp;display=swap\" rel=\"stylesheet\"/>\n",
       "<link href=\"https://fonts.googleapis.com/css?family=Lato:300,400,600,700&amp;display=swap\" rel=\"stylesheet\"/>\n",
       "<link href=\"https://fonts.googleapis.com/icon?family=Material+Icons\" rel=\"stylesheet\"/>\n",
       "<script async=\"\" src=\"https://securepubads.g.doubleclick.net/tag/js/gpt.js\" type=\"21849cac3917c31007940dd5-text/javascript\"></script>\n",
       "<script async=\"\" src=\"https://aristeguinoticias.com/js/prebid3.19.0.js\" type=\"21849cac3917c31007940dd5-text/javascript\"></script>\n",
       "<script type=\"21849cac3917c31007940dd5-text/javascript\">\n",
       "        //load the apstag.js library\n",
       "        ! function(a9, a, p, s, t, A, g) {\n",
       "            if (a[a9]) return;\n",
       "\n",
       "            function q(c, r) {\n",
       "                a[a9]._Q.push([c, r])\n",
       "            }\n",
       "            a[a9] = {\n",
       "                init: function() {\n",
       "                    q(\"i\", arguments)\n",
       "                },\n",
       "                fetchBids: function() {\n",
       "                    q(\"f\", arguments)\n",
       "                },\n",
       "                setDisplayBids: function() {},\n",
       "                targetingKeys: function() {\n",
       "                    return []\n",
       "                },\n",
       "                _Q: []\n",
       "            };\n",
       "            A = p.createElement(s);\n",
       "            A.async = !0;\n",
       "            A.src = t;\n",
       "            g = p.getElementsByTagName(s)[0];\n",
       "            g.parentNode.insertBefore(A, g)\n",
       "        }(\"apstag\", window, document, \"script\", \"//c.amazon-adsystem.com/aax2/apstag.js\");\n",
       "    </script>\n",
       "<script type=\"21849cac3917c31007940dd5-text/javascript\">\n",
       "        var _comscore = _comscore || [];\n",
       "        _comscore.push({\n",
       "            c1: \"2\",\n",
       "            c2: \"16900224\"\n",
       "        });\n",
       "        (function() {\n",
       "            var s = document.createElement(\"script\"),\n",
       "                el = document.getElementsByTagName(\"script\")[0];\n",
       "            s.async = true;\n",
       "            //s.src = (document.location.protocol == \"https:\" ? \"https://sb\" : \"http://b\") + \".scorecardresearch.com/beacon.js\";\n",
       "            s.src = \"https://sb.scorecardresearch.com/beacon.js\";\n",
       "            el.parentNode.insertBefore(s, el);\n",
       "        })();\n",
       "    </script>\n",
       "<noscript>\n",
       "<img src=\"https://sb.scorecardresearch.com/p?c1=2&amp;c2=16900224&amp;cv=2.0&amp;cj=1\"/>\n",
       "</noscript>\n",
       "<script async=\"\" src=\"https://cdn.insurads.com/bootstrap/5UO3Z2BF.js\" type=\"21849cac3917c31007940dd5-text/javascript\"></script>\n",
       "<link href=\"styles.05dfad1f80b7bd0fdb18.css\" rel=\"stylesheet\"/></head>\n",
       "<body>\n",
       "<app-root>\n",
       "<div style=\"display:flex; flex-direction:column; position:fixed; width:100%; height:100%; justify-content: center; align-items: center;\">\n",
       "<img alt=\"Aristegui Noticias\" class=\"img-fluid\" src=\"https://aristeguinoticias.com/editorial/wp-content/uploads/2019/03/500x.png\" width=\"100\"/>\n",
       "<img alt=\"Cargando\" class=\"loaderinit\" src=\"assets/images/Eclipse-1s-150px.svg\" style=\"position:absolute;\" width=\"150\"/>\n",
       "</div>\n",
       "</app-root>\n",
       "<script type=\"21849cac3917c31007940dd5-text/javascript\">\n",
       "        var _at = {};\n",
       "        window._at.track = window._at.track || function() {\n",
       "            (window._at.track.q = window._at.track.q || []).push(arguments);\n",
       "        };\n",
       "        _at.domain = 'aristeguinoticias.com/';\n",
       "        _at.owner = 'f1e8009618e5';\n",
       "        _at.idSite = '16223';\n",
       "        _at.attributes = {};\n",
       "        _at.webpushid = 'web.29.aimtell.com';\n",
       "        (function() {\n",
       "            var u = '//s3.amazonaws.com/cdn.aimtell.com/trackpush/';\n",
       "            var d = document,\n",
       "                g = d.createElement('script'),\n",
       "                s = d.getElementsByTagName('script')[0];\n",
       "            g.type = 'text/javascript';\n",
       "            g.async = true;\n",
       "            g.defer = true;\n",
       "            g.src = u + 'trackpush.min.js';\n",
       "            s.parentNode.insertBefore(g, s);\n",
       "        })();\n",
       "    </script>\n",
       "<script defer=\"\" src=\"runtime.a8ef3a8272419c2e2c66.js\" type=\"21849cac3917c31007940dd5-text/javascript\"></script><script defer=\"\" nomodule=\"\" src=\"polyfills-es5.ba986c60fe1d167523d4.js\" type=\"21849cac3917c31007940dd5-text/javascript\"></script><script defer=\"\" src=\"polyfills.6531168c1025ae94b804.js\" type=\"21849cac3917c31007940dd5-text/javascript\"></script><script defer=\"\" src=\"scripts.283183af5a3027be6590.js\" type=\"21849cac3917c31007940dd5-text/javascript\"></script><script defer=\"\" src=\"main.ec6aa23dbc7ffc57e9f0.js\" type=\"21849cac3917c31007940dd5-text/javascript\"></script><script data-cf-settings=\"21849cac3917c31007940dd5-|49\" defer=\"\" src=\"https://ajax.cloudflare.com/cdn-cgi/scripts/7089c43e/cloudflare-static/rocket-loader.min.js\"></script></body>\n",
       "</html>"
      ]
     },
     "execution_count": 4,
     "metadata": {},
     "output_type": "execute_result"
    }
   ],
   "source": [
    "soup"
   ]
  },
  {
   "cell_type": "markdown",
   "metadata": {},
   "source": [
    "## La info que falta está en el tag \\<div> :"
   ]
  },
  {
   "cell_type": "code",
   "execution_count": 5,
   "metadata": {},
   "outputs": [
    {
     "data": {
      "text/plain": [
       "<title>Aristegui Noticias | Desde cualquier medio, periodismo en libertad </title>"
      ]
     },
     "execution_count": 5,
     "metadata": {},
     "output_type": "execute_result"
    }
   ],
   "source": [
    "soup.title"
   ]
  },
  {
   "cell_type": "code",
   "execution_count": 6,
   "metadata": {},
   "outputs": [
    {
     "data": {
      "text/plain": [
       "<div style=\"display:flex; flex-direction:column; position:fixed; width:100%; height:100%; justify-content: center; align-items: center;\">\n",
       "<img alt=\"Aristegui Noticias\" class=\"img-fluid\" src=\"https://aristeguinoticias.com/editorial/wp-content/uploads/2019/03/500x.png\" width=\"100\"/>\n",
       "<img alt=\"Cargando\" class=\"loaderinit\" src=\"assets/images/Eclipse-1s-150px.svg\" style=\"position:absolute;\" width=\"150\"/>\n",
       "</div>"
      ]
     },
     "execution_count": 6,
     "metadata": {},
     "output_type": "execute_result"
    }
   ],
   "source": [
    "soup.div"
   ]
  },
  {
   "cell_type": "markdown",
   "metadata": {},
   "source": [
    "from urllib.request import Request, urlopen\n",
    "from bs4 import BeautifulSoup"
   ]
  },
  {
   "cell_type": "markdown",
   "metadata": {},
   "source": [
    "## posible sol\n",
    "\n",
    "[How to Scrape Javascript Rendered Websites with Python & Selenium](https://medium.com/@hoppy/how-to-test-or-scrape-javascript-rendered-websites-with-python-selenium-a-beginner-step-by-c137892216aa) (Vista en[stack overfow](https://stackoverflow.com/q/48513576/9934348)).\n",
    "\n",
    "La página de Aristegi noticias tiene ***contenido javascript dinámicamente renderizado***.\n",
    "\n",
    "Estos son los datos del tag **\\<script>**. Para verlo en el hmtl:"
   ]
  },
  {
   "cell_type": "code",
   "execution_count": 7,
   "metadata": {},
   "outputs": [
    {
     "data": {
      "text/plain": [
       "<script async=\"\" src=\"https://www.googletagmanager.com/gtag/js?id=UA-30387439-1\" type=\"21849cac3917c31007940dd5-text/javascript\"></script>"
      ]
     },
     "execution_count": 7,
     "metadata": {},
     "output_type": "execute_result"
    }
   ],
   "source": [
    "soup.script"
   ]
  },
  {
   "cell_type": "markdown",
   "metadata": {},
   "source": [
    "That data is in JSON format and is rendered to HTML upon loading. We have the option to parse the JSON data, but let’s say we want to extract based on what we see or generated. Let’s write the steps on how we’d do that:"
   ]
  },
  {
   "cell_type": "markdown",
   "metadata": {},
   "source": [
    "# HTML Session"
   ]
  },
  {
   "cell_type": "code",
   "execution_count": 8,
   "metadata": {},
   "outputs": [],
   "source": [
    "from requests_html import HTMLSession, AsyncHTMLSession"
   ]
  },
  {
   "cell_type": "markdown",
   "metadata": {
    "jupyter": {
     "source_hidden": true
    }
   },
   "source": [
    "import asyncio\n",
    "if asyncio.get_event_loop().is_running(): # Only patch if needed (i.e. running in Notebook, Spyder, etc)\n",
    "    import nest_asyncio\n",
    "    nest_asyncio.apply()"
   ]
  },
  {
   "cell_type": "markdown",
   "metadata": {
    "jupyter": {
     "source_hidden": true
    }
   },
   "source": [
    "# import HTMLSession from requests_html\n",
    "from requests_html import HTMLSession, AsyncHTMLSession\n",
    " \n",
    "# create an HTML Session object\n",
    "session = HTMLSession()\n",
    " \n",
    "# Use the object above to connect to needed webpage\n",
    "resp = session.get(aristegui)\n",
    " \n",
    "print(resp)\n",
    "\n",
    "resp.html.render()"
   ]
  },
  {
   "cell_type": "code",
   "execution_count": 9,
   "metadata": {},
   "outputs": [],
   "source": [
    "asession = AsyncHTMLSession()\n",
    "r=await asession.get(aristegui)\n"
   ]
  },
  {
   "cell_type": "markdown",
   "metadata": {},
   "source": [
    "**Texto antes de renderizar**"
   ]
  },
  {
   "cell_type": "code",
   "execution_count": 10,
   "metadata": {},
   "outputs": [
    {
     "data": {
      "text/plain": [
       "'<!doctype html>\\n<html lang=\"es\">\\n<head>\\n<link href=\"//www.google-analytics.com\" rel=\"dns-prefetch\">\\n<link href=\"//www.googletagmanager.com\" rel=\"dns-prefetch\">\\n<link href=\"//www.googletagservices.com\" rel=\"dns-prefetch\">\\n<link href=\"//securepubads.g.doubleclick.net\" rel=\"dns-prefetch\">\\n<link href=\"//googleads.g.doubleclick.net\" rel=\"dns-prefetch\">\\n<link href=\"//fonts.googleapis.com\" rel=\"dns-prefetch\">\\n<link href=\"//c.amazon-adsystem.com\" rel=\"dns-prefetch\">\\n<link href=\"//sb.scorecardresearch.com\" rel=\"dns-prefetch\">\\n<link href=\"//login.aristeguinoticias.com\" rel=\"dns-prefetch\">\\n\\n<link href=\"//cdn.insurads.com\" rel=\"dns-prefetch\">\\n<script async src=\"https://www.googletagmanager.com/gtag/js?id=UA-30387439-1\" type=\"66ad5ba13bcef4fc8c4ae28d-text/javascript\"></script>\\n<script type=\"66ad5ba13bcef4fc8c4ae28d-text/javascript\">\\n        window.dataLayer = window.dataLayer || [];\\n\\n        function gtag() {\\n            dataLayer.push(arguments);\\n        }\\n        gtag(\\'js\\', new Date());\\n        gtag(\\'config\\', \\'UA-30387439-1\\', {\\n            \\'send_page_view\\': false\\n        });\\n    </script>\\n<meta charset=\"utf-8\">\\n<title>Aristegui Noticias | Desde cualquier medio, periodismo en libertad </title>\\n<base href=\"/\">\\n<meta name=\"viewport\" content=\"width=device-width, initial-scale=1, user-scalable=no\">\\n<meta name=\"description\" content=\"Información y análisis en línea de México y el mundo: noticias, política, elecciones, seguridad, sociedad y cultura. Entrevistas de Carmen Aristegui y opinión.\" />\\n<meta property=\"fb:pages\" content=\"183919588401049\" />\\n<meta property=\"fb:app_id\" content=\"297667261186825\" />\\n<meta property=\"og:type\" content=\"website\" />\\n<meta property=\"og:title\" content=\"Aristegui Noticias\" />\\n<meta property=\"og:description\" content=\"Desde cualquier medio, periodismo en libertad\" />\\n<meta property=\"og:url\" content=\"https://aristeguinoticias.com/\" />\\n<meta property=\"og:site_name\" content=\"Aristegui Noticias\" />\\n<meta property=\"og:image\" content=\"https://aristeguinoticias.com/editorial/wp-content/uploads/2019/03/500x.png\" />\\n<meta name=\"twitter:card\" content=\"summary_large_image\" />\\n<meta name=\"twitter:site\" content=\"@AristeguiOnline\" />\\n<meta name=\"twitter:domain\" content=\"aristeguinoticias.com\" />\\n<meta name=\"twitter:title\" content=\"Aristegui Noticias\" />\\n<meta name=\"twitter:description\" content=\"Desde cualquier medio, periodismo en libertad\" />\\n<meta name=\"twitter:image\" content=\"https://aristeguinoticias.com/editorial/wp-content/uploads/2019/03/500x.png\" />\\n<link rel=\"icon\" type=\"image/x-icon\" href=\"./css/favicon.png\">\\n<link href=\"https://fonts.googleapis.com/css?family=Barlow+Condensed:300,400,600,700&display=swap\" rel=\"stylesheet\">\\n<link href=\"https://fonts.googleapis.com/css?family=Barlow+Semi+Condensed:300,400,600,700&display=swap\" rel=\"stylesheet\">\\n<link href=\"https://fonts.googleapis.com/css?family=Lato:300,400,600,700&display=swap\" rel=\"stylesheet\">\\n<link rel=\"stylesheet\" href=\"https://fonts.googleapis.com/icon?family=Material+Icons\">\\n<script async src=\"https://securepubads.g.doubleclick.net/tag/js/gpt.js\" type=\"66ad5ba13bcef4fc8c4ae28d-text/javascript\"></script>\\n<script async src=\"https://aristeguinoticias.com/js/prebid3.19.0.js\" type=\"66ad5ba13bcef4fc8c4ae28d-text/javascript\"></script>\\n<script type=\"66ad5ba13bcef4fc8c4ae28d-text/javascript\">\\n        //load the apstag.js library\\n        ! function(a9, a, p, s, t, A, g) {\\n            if (a[a9]) return;\\n\\n            function q(c, r) {\\n                a[a9]._Q.push([c, r])\\n            }\\n            a[a9] = {\\n                init: function() {\\n                    q(\"i\", arguments)\\n                },\\n                fetchBids: function() {\\n                    q(\"f\", arguments)\\n                },\\n                setDisplayBids: function() {},\\n                targetingKeys: function() {\\n                    return []\\n                },\\n                _Q: []\\n            };\\n            A = p.createElement(s);\\n            A.async = !0;\\n            A.src = t;\\n            g = p.getElementsByTagName(s)[0];\\n            g.parentNode.insertBefore(A, g)\\n        }(\"apstag\", window, document, \"script\", \"//c.amazon-adsystem.com/aax2/apstag.js\");\\n    </script>\\n\\n\\n<script type=\"66ad5ba13bcef4fc8c4ae28d-text/javascript\">\\n        var _comscore = _comscore || [];\\n        _comscore.push({\\n            c1: \"2\",\\n            c2: \"16900224\"\\n        });\\n        (function() {\\n            var s = document.createElement(\"script\"),\\n                el = document.getElementsByTagName(\"script\")[0];\\n            s.async = true;\\n            //s.src = (document.location.protocol == \"https:\" ? \"https://sb\" : \"http://b\") + \".scorecardresearch.com/beacon.js\";\\n            s.src = \"https://sb.scorecardresearch.com/beacon.js\";\\n            el.parentNode.insertBefore(s, el);\\n        })();\\n    </script>\\n<noscript>\\n        <img src=\"https://sb.scorecardresearch.com/p?c1=2&c2=16900224&cv=2.0&cj=1\" />\\n    </noscript>\\n\\n<script async src=\"https://cdn.insurads.com/bootstrap/5UO3Z2BF.js\" type=\"66ad5ba13bcef4fc8c4ae28d-text/javascript\"></script>\\n<link rel=\"stylesheet\" href=\"styles.05dfad1f80b7bd0fdb18.css\"></head>\\n<body>\\n<app-root>\\n<div style=\"display:flex; flex-direction:column; position:fixed; width:100%; height:100%; justify-content: center; align-items: center;\">\\n<img width=\"100\" class=\"img-fluid\" src=\"https://aristeguinoticias.com/editorial/wp-content/uploads/2019/03/500x.png\" alt=\"Aristegui Noticias\">\\n<img width=\"150\" style=\"position:absolute;\" class=\"loaderinit\" src=\"assets/images/Eclipse-1s-150px.svg\" alt=\"Cargando\">\\n</div>\\n</app-root>\\n\\n<script type=\"66ad5ba13bcef4fc8c4ae28d-text/javascript\">\\n        var _at = {};\\n        window._at.track = window._at.track || function() {\\n            (window._at.track.q = window._at.track.q || []).push(arguments);\\n        };\\n        _at.domain = \\'aristeguinoticias.com/\\';\\n        _at.owner = \\'f1e8009618e5\\';\\n        _at.idSite = \\'16223\\';\\n        _at.attributes = {};\\n        _at.webpushid = \\'web.29.aimtell.com\\';\\n        (function() {\\n            var u = \\'//s3.amazonaws.com/cdn.aimtell.com/trackpush/\\';\\n            var d = document,\\n                g = d.createElement(\\'script\\'),\\n                s = d.getElementsByTagName(\\'script\\')[0];\\n            g.type = \\'text/javascript\\';\\n            g.async = true;\\n            g.defer = true;\\n            g.src = u + \\'trackpush.min.js\\';\\n            s.parentNode.insertBefore(g, s);\\n        })();\\n    </script>\\n\\n<script src=\"runtime.a8ef3a8272419c2e2c66.js\" defer type=\"66ad5ba13bcef4fc8c4ae28d-text/javascript\"></script><script src=\"polyfills-es5.ba986c60fe1d167523d4.js\" nomodule defer type=\"66ad5ba13bcef4fc8c4ae28d-text/javascript\"></script><script src=\"polyfills.6531168c1025ae94b804.js\" defer type=\"66ad5ba13bcef4fc8c4ae28d-text/javascript\"></script><script src=\"scripts.283183af5a3027be6590.js\" defer type=\"66ad5ba13bcef4fc8c4ae28d-text/javascript\"></script><script src=\"main.ec6aa23dbc7ffc57e9f0.js\" defer type=\"66ad5ba13bcef4fc8c4ae28d-text/javascript\"></script><script src=\"https://ajax.cloudflare.com/cdn-cgi/scripts/7089c43e/cloudflare-static/rocket-loader.min.js\" data-cf-settings=\"66ad5ba13bcef4fc8c4ae28d-|49\" defer=\"\"></script></body>\\n</html>'"
      ]
     },
     "execution_count": 10,
     "metadata": {},
     "output_type": "execute_result"
    }
   ],
   "source": [
    "r.html.html"
   ]
  },
  {
   "cell_type": "code",
   "execution_count": 11,
   "metadata": {},
   "outputs": [],
   "source": [
    "await r.html.arender()"
   ]
  },
  {
   "cell_type": "markdown",
   "metadata": {},
   "source": [
    "**Texto despues de renderizar**"
   ]
  },
  {
   "cell_type": "code",
   "execution_count": 12,
   "metadata": {},
   "outputs": [
    {
     "data": {
      "text/plain": [
       "'<!DOCTYPE html><html lang=\"es\"><head>\\n<link href=\"//www.google-analytics.com\" rel=\"dns-prefetch\">\\n<link href=\"//www.googletagmanager.com\" rel=\"dns-prefetch\">\\n<link href=\"//www.googletagservices.com\" rel=\"dns-prefetch\">\\n<link href=\"//securepubads.g.doubleclick.net\" rel=\"dns-prefetch\">\\n<link href=\"//googleads.g.doubleclick.net\" rel=\"dns-prefetch\">\\n<link href=\"//fonts.googleapis.com\" rel=\"dns-prefetch\">\\n<link href=\"//c.amazon-adsystem.com\" rel=\"dns-prefetch\">\\n<link href=\"//sb.scorecardresearch.com\" rel=\"dns-prefetch\">\\n<link href=\"//login.aristeguinoticias.com\" rel=\"dns-prefetch\">\\n\\n<link href=\"//cdn.insurads.com\" rel=\"dns-prefetch\">\\n<script type=\"text/javascript\" async=\"\" defer=\"\" src=\"//s3.amazonaws.com/cdn.aimtell.com/trackpush/trackpush.min.js\"></script><script async=\"\" src=\"https://sb.scorecardresearch.com/beacon.js\"></script><script async=\"\" src=\"//c.amazon-adsystem.com/aax2/apstag.js\"></script><script async=\"\" src=\"https://www.googletagmanager.com/gtag/js?id=UA-30387439-1\" type=\"text/javascript\"></script>\\n<script type=\"text/javascript\">\\n        window.dataLayer = window.dataLayer || [];\\n\\n        function gtag() {\\n            dataLayer.push(arguments);\\n        }\\n        gtag(\\'js\\', new Date());\\n        gtag(\\'config\\', \\'UA-30387439-1\\', {\\n            \\'send_page_view\\': false\\n        });\\n    </script>\\n<meta charset=\"utf-8\">\\n<title>Aristegui Noticias | Desde cualquier medio, periodismo en libertad </title>\\n<base href=\"/\">\\n<meta name=\"viewport\" content=\"width=device-width, initial-scale=1, user-scalable=no\">\\n<meta name=\"description\" content=\"Información y análisis en línea de México y el mundo: noticias, política, elecciones, seguridad, sociedad y cultura. Entrevistas de Carmen Aristegui y opinión.\">\\n<meta property=\"fb:pages\" content=\"183919588401049\">\\n<meta property=\"fb:app_id\" content=\"297667261186825\">\\n<meta property=\"og:type\" content=\"website\">\\n<meta property=\"og:title\" content=\"Aristegui Noticias\">\\n<meta property=\"og:description\" content=\"Desde cualquier medio, periodismo en libertad\">\\n<meta property=\"og:url\" content=\"https://aristeguinoticias.com/\">\\n<meta property=\"og:site_name\" content=\"Aristegui Noticias\">\\n<meta property=\"og:image\" content=\"https://aristeguinoticias.com/editorial/wp-content/uploads/2019/03/500x.png\">\\n<meta name=\"twitter:card\" content=\"summary_large_image\">\\n<meta name=\"twitter:site\" content=\"@AristeguiOnline\">\\n<meta name=\"twitter:domain\" content=\"aristeguinoticias.com\">\\n<meta name=\"twitter:title\" content=\"Aristegui Noticias\">\\n<meta name=\"twitter:description\" content=\"Desde cualquier medio, periodismo en libertad\">\\n<meta name=\"twitter:image\" content=\"https://aristeguinoticias.com/editorial/wp-content/uploads/2019/03/500x.png\">\\n<link rel=\"icon\" type=\"image/x-icon\" href=\"./css/favicon.png\">\\n<link href=\"https://fonts.googleapis.com/css?family=Barlow+Condensed:300,400,600,700&amp;display=swap\" rel=\"stylesheet\">\\n<link href=\"https://fonts.googleapis.com/css?family=Barlow+Semi+Condensed:300,400,600,700&amp;display=swap\" rel=\"stylesheet\">\\n<link href=\"https://fonts.googleapis.com/css?family=Lato:300,400,600,700&amp;display=swap\" rel=\"stylesheet\">\\n<link rel=\"stylesheet\" href=\"https://fonts.googleapis.com/icon?family=Material+Icons\">\\n<script async=\"\" src=\"https://securepubads.g.doubleclick.net/tag/js/gpt.js\" type=\"text/javascript\"></script>\\n<script async=\"\" src=\"https://aristeguinoticias.com/js/prebid3.19.0.js\" type=\"text/javascript\"></script>\\n<script type=\"text/javascript\">\\n        //load the apstag.js library\\n        ! function(a9, a, p, s, t, A, g) {\\n            if (a[a9]) return;\\n\\n            function q(c, r) {\\n                a[a9]._Q.push([c, r])\\n            }\\n            a[a9] = {\\n                init: function() {\\n                    q(\"i\", arguments)\\n                },\\n                fetchBids: function() {\\n                    q(\"f\", arguments)\\n                },\\n                setDisplayBids: function() {},\\n                targetingKeys: function() {\\n                    return []\\n                },\\n                _Q: []\\n            };\\n            A = p.createElement(s);\\n            A.async = !0;\\n            A.src = t;\\n            g = p.getElementsByTagName(s)[0];\\n            g.parentNode.insertBefore(A, g)\\n        }(\"apstag\", window, document, \"script\", \"//c.amazon-adsystem.com/aax2/apstag.js\");\\n    </script>\\n\\n\\n<script type=\"text/javascript\">\\n        var _comscore = _comscore || [];\\n        _comscore.push({\\n            c1: \"2\",\\n            c2: \"16900224\"\\n        });\\n        (function() {\\n            var s = document.createElement(\"script\"),\\n                el = document.getElementsByTagName(\"script\")[0];\\n            s.async = true;\\n            //s.src = (document.location.protocol == \"https:\" ? \"https://sb\" : \"http://b\") + \".scorecardresearch.com/beacon.js\";\\n            s.src = \"https://sb.scorecardresearch.com/beacon.js\";\\n            el.parentNode.insertBefore(s, el);\\n        })();\\n    </script>\\n<noscript>\\n        <img src=\"https://sb.scorecardresearch.com/p?c1=2&c2=16900224&cv=2.0&cj=1\" />\\n    </noscript>\\n\\n<script async=\"\" src=\"https://cdn.insurads.com/bootstrap/5UO3Z2BF.js\" type=\"text/javascript\"></script>\\n<link rel=\"stylesheet\" href=\"styles.05dfad1f80b7bd0fdb18.css\"></head>\\n<body>\\n<app-root>\\n<div style=\"display:flex; flex-direction:column; position:fixed; width:100%; height:100%; justify-content: center; align-items: center;\">\\n<img width=\"100\" class=\"img-fluid\" src=\"https://aristeguinoticias.com/editorial/wp-content/uploads/2019/03/500x.png\" alt=\"Aristegui Noticias\">\\n<img width=\"150\" style=\"position:absolute;\" class=\"loaderinit\" src=\"assets/images/Eclipse-1s-150px.svg\" alt=\"Cargando\">\\n</div>\\n</app-root>\\n\\n<script type=\"text/javascript\">\\n        var _at = {};\\n        window._at.track = window._at.track || function() {\\n            (window._at.track.q = window._at.track.q || []).push(arguments);\\n        };\\n        _at.domain = \\'aristeguinoticias.com/\\';\\n        _at.owner = \\'f1e8009618e5\\';\\n        _at.idSite = \\'16223\\';\\n        _at.attributes = {};\\n        _at.webpushid = \\'web.29.aimtell.com\\';\\n        (function() {\\n            var u = \\'//s3.amazonaws.com/cdn.aimtell.com/trackpush/\\';\\n            var d = document,\\n                g = d.createElement(\\'script\\'),\\n                s = d.getElementsByTagName(\\'script\\')[0];\\n            g.type = \\'text/javascript\\';\\n            g.async = true;\\n            g.defer = true;\\n            g.src = u + \\'trackpush.min.js\\';\\n            s.parentNode.insertBefore(g, s);\\n        })();\\n    </script>\\n\\n<script src=\"runtime.a8ef3a8272419c2e2c66.js\" defer=\"\" type=\"text/javascript\"></script><script src=\"runtime.a8ef3a8272419c2e2c66.js\" defer=\"\" type=\"632a4a4f3026a005158ac029-text/javascript\"></script><script src=\"polyfills-es5.ba986c60fe1d167523d4.js\" nomodule=\"\" defer=\"\" type=\"632a4a4f3026a005158ac029-text/javascript\"></script><script src=\"polyfills.6531168c1025ae94b804.js\" defer=\"\" type=\"632a4a4f3026a005158ac029-text/javascript\"></script><script src=\"scripts.283183af5a3027be6590.js\" defer=\"\" type=\"632a4a4f3026a005158ac029-text/javascript\"></script><script src=\"main.ec6aa23dbc7ffc57e9f0.js\" defer=\"\" type=\"632a4a4f3026a005158ac029-text/javascript\"></script>\\n</body></html>'"
      ]
     },
     "execution_count": 12,
     "metadata": {},
     "output_type": "execute_result"
    }
   ],
   "source": [
    "r.html.html"
   ]
  },
  {
   "cell_type": "code",
   "execution_count": 13,
   "metadata": {
    "jupyter": {
     "source_hidden": true
    }
   },
   "outputs": [],
   "source": [
    "#resp=r.html.raw_html\n",
    "soup = BeautifulSoup(r.html.raw_html)"
   ]
  },
  {
   "cell_type": "code",
   "execution_count": 14,
   "metadata": {
    "collapsed": true,
    "jupyter": {
     "outputs_hidden": true,
     "source_hidden": true
    }
   },
   "outputs": [
    {
     "data": {
      "text/plain": [
       "<!DOCTYPE html>\n",
       "<html lang=\"es\"><head>\n",
       "<link href=\"//www.google-analytics.com\" rel=\"dns-prefetch\"/>\n",
       "<link href=\"//www.googletagmanager.com\" rel=\"dns-prefetch\"/>\n",
       "<link href=\"//www.googletagservices.com\" rel=\"dns-prefetch\"/>\n",
       "<link href=\"//securepubads.g.doubleclick.net\" rel=\"dns-prefetch\"/>\n",
       "<link href=\"//googleads.g.doubleclick.net\" rel=\"dns-prefetch\"/>\n",
       "<link href=\"//fonts.googleapis.com\" rel=\"dns-prefetch\"/>\n",
       "<link href=\"//c.amazon-adsystem.com\" rel=\"dns-prefetch\"/>\n",
       "<link href=\"//sb.scorecardresearch.com\" rel=\"dns-prefetch\"/>\n",
       "<link href=\"//login.aristeguinoticias.com\" rel=\"dns-prefetch\"/>\n",
       "<link href=\"//cdn.insurads.com\" rel=\"dns-prefetch\"/>\n",
       "<script async=\"\" defer=\"\" src=\"//s3.amazonaws.com/cdn.aimtell.com/trackpush/trackpush.min.js\" type=\"text/javascript\"></script><script async=\"\" src=\"https://sb.scorecardresearch.com/beacon.js\"></script><script async=\"\" src=\"//c.amazon-adsystem.com/aax2/apstag.js\"></script><script async=\"\" src=\"https://www.googletagmanager.com/gtag/js?id=UA-30387439-1\" type=\"text/javascript\"></script>\n",
       "<script type=\"text/javascript\">\n",
       "        window.dataLayer = window.dataLayer || [];\n",
       "\n",
       "        function gtag() {\n",
       "            dataLayer.push(arguments);\n",
       "        }\n",
       "        gtag('js', new Date());\n",
       "        gtag('config', 'UA-30387439-1', {\n",
       "            'send_page_view': false\n",
       "        });\n",
       "    </script>\n",
       "<meta charset=\"utf-8\"/>\n",
       "<title>Aristegui Noticias | Desde cualquier medio, periodismo en libertad </title>\n",
       "<base href=\"/\"/>\n",
       "<meta content=\"width=device-width, initial-scale=1, user-scalable=no\" name=\"viewport\"/>\n",
       "<meta content=\"Información y análisis en línea de México y el mundo: noticias, política, elecciones, seguridad, sociedad y cultura. Entrevistas de Carmen Aristegui y opinión.\" name=\"description\"/>\n",
       "<meta content=\"183919588401049\" property=\"fb:pages\"/>\n",
       "<meta content=\"297667261186825\" property=\"fb:app_id\"/>\n",
       "<meta content=\"website\" property=\"og:type\"/>\n",
       "<meta content=\"Aristegui Noticias\" property=\"og:title\"/>\n",
       "<meta content=\"Desde cualquier medio, periodismo en libertad\" property=\"og:description\"/>\n",
       "<meta content=\"https://aristeguinoticias.com/\" property=\"og:url\"/>\n",
       "<meta content=\"Aristegui Noticias\" property=\"og:site_name\"/>\n",
       "<meta content=\"https://aristeguinoticias.com/editorial/wp-content/uploads/2019/03/500x.png\" property=\"og:image\"/>\n",
       "<meta content=\"summary_large_image\" name=\"twitter:card\"/>\n",
       "<meta content=\"@AristeguiOnline\" name=\"twitter:site\"/>\n",
       "<meta content=\"aristeguinoticias.com\" name=\"twitter:domain\"/>\n",
       "<meta content=\"Aristegui Noticias\" name=\"twitter:title\"/>\n",
       "<meta content=\"Desde cualquier medio, periodismo en libertad\" name=\"twitter:description\"/>\n",
       "<meta content=\"https://aristeguinoticias.com/editorial/wp-content/uploads/2019/03/500x.png\" name=\"twitter:image\"/>\n",
       "<link href=\"./css/favicon.png\" rel=\"icon\" type=\"image/x-icon\"/>\n",
       "<link href=\"https://fonts.googleapis.com/css?family=Barlow+Condensed:300,400,600,700&amp;display=swap\" rel=\"stylesheet\"/>\n",
       "<link href=\"https://fonts.googleapis.com/css?family=Barlow+Semi+Condensed:300,400,600,700&amp;display=swap\" rel=\"stylesheet\"/>\n",
       "<link href=\"https://fonts.googleapis.com/css?family=Lato:300,400,600,700&amp;display=swap\" rel=\"stylesheet\"/>\n",
       "<link href=\"https://fonts.googleapis.com/icon?family=Material+Icons\" rel=\"stylesheet\"/>\n",
       "<script async=\"\" src=\"https://securepubads.g.doubleclick.net/tag/js/gpt.js\" type=\"text/javascript\"></script>\n",
       "<script async=\"\" src=\"https://aristeguinoticias.com/js/prebid3.19.0.js\" type=\"text/javascript\"></script>\n",
       "<script type=\"text/javascript\">\n",
       "        //load the apstag.js library\n",
       "        ! function(a9, a, p, s, t, A, g) {\n",
       "            if (a[a9]) return;\n",
       "\n",
       "            function q(c, r) {\n",
       "                a[a9]._Q.push([c, r])\n",
       "            }\n",
       "            a[a9] = {\n",
       "                init: function() {\n",
       "                    q(\"i\", arguments)\n",
       "                },\n",
       "                fetchBids: function() {\n",
       "                    q(\"f\", arguments)\n",
       "                },\n",
       "                setDisplayBids: function() {},\n",
       "                targetingKeys: function() {\n",
       "                    return []\n",
       "                },\n",
       "                _Q: []\n",
       "            };\n",
       "            A = p.createElement(s);\n",
       "            A.async = !0;\n",
       "            A.src = t;\n",
       "            g = p.getElementsByTagName(s)[0];\n",
       "            g.parentNode.insertBefore(A, g)\n",
       "        }(\"apstag\", window, document, \"script\", \"//c.amazon-adsystem.com/aax2/apstag.js\");\n",
       "    </script>\n",
       "<script type=\"text/javascript\">\n",
       "        var _comscore = _comscore || [];\n",
       "        _comscore.push({\n",
       "            c1: \"2\",\n",
       "            c2: \"16900224\"\n",
       "        });\n",
       "        (function() {\n",
       "            var s = document.createElement(\"script\"),\n",
       "                el = document.getElementsByTagName(\"script\")[0];\n",
       "            s.async = true;\n",
       "            //s.src = (document.location.protocol == \"https:\" ? \"https://sb\" : \"http://b\") + \".scorecardresearch.com/beacon.js\";\n",
       "            s.src = \"https://sb.scorecardresearch.com/beacon.js\";\n",
       "            el.parentNode.insertBefore(s, el);\n",
       "        })();\n",
       "    </script>\n",
       "<noscript>\n",
       "<img src=\"https://sb.scorecardresearch.com/p?c1=2&amp;c2=16900224&amp;cv=2.0&amp;cj=1\"/>\n",
       "</noscript>\n",
       "<script async=\"\" src=\"https://cdn.insurads.com/bootstrap/5UO3Z2BF.js\" type=\"text/javascript\"></script>\n",
       "<link href=\"styles.05dfad1f80b7bd0fdb18.css\" rel=\"stylesheet\"/></head>\n",
       "<body>\n",
       "<app-root>\n",
       "<div style=\"display:flex; flex-direction:column; position:fixed; width:100%; height:100%; justify-content: center; align-items: center;\">\n",
       "<img alt=\"Aristegui Noticias\" class=\"img-fluid\" src=\"https://aristeguinoticias.com/editorial/wp-content/uploads/2019/03/500x.png\" width=\"100\"/>\n",
       "<img alt=\"Cargando\" class=\"loaderinit\" src=\"assets/images/Eclipse-1s-150px.svg\" style=\"position:absolute;\" width=\"150\"/>\n",
       "</div>\n",
       "</app-root>\n",
       "<script type=\"text/javascript\">\n",
       "        var _at = {};\n",
       "        window._at.track = window._at.track || function() {\n",
       "            (window._at.track.q = window._at.track.q || []).push(arguments);\n",
       "        };\n",
       "        _at.domain = 'aristeguinoticias.com/';\n",
       "        _at.owner = 'f1e8009618e5';\n",
       "        _at.idSite = '16223';\n",
       "        _at.attributes = {};\n",
       "        _at.webpushid = 'web.29.aimtell.com';\n",
       "        (function() {\n",
       "            var u = '//s3.amazonaws.com/cdn.aimtell.com/trackpush/';\n",
       "            var d = document,\n",
       "                g = d.createElement('script'),\n",
       "                s = d.getElementsByTagName('script')[0];\n",
       "            g.type = 'text/javascript';\n",
       "            g.async = true;\n",
       "            g.defer = true;\n",
       "            g.src = u + 'trackpush.min.js';\n",
       "            s.parentNode.insertBefore(g, s);\n",
       "        })();\n",
       "    </script>\n",
       "<script defer=\"\" src=\"runtime.a8ef3a8272419c2e2c66.js\" type=\"text/javascript\"></script><script defer=\"\" src=\"runtime.a8ef3a8272419c2e2c66.js\" type=\"632a4a4f3026a005158ac029-text/javascript\"></script><script defer=\"\" nomodule=\"\" src=\"polyfills-es5.ba986c60fe1d167523d4.js\" type=\"632a4a4f3026a005158ac029-text/javascript\"></script><script defer=\"\" src=\"polyfills.6531168c1025ae94b804.js\" type=\"632a4a4f3026a005158ac029-text/javascript\"></script><script defer=\"\" src=\"scripts.283183af5a3027be6590.js\" type=\"632a4a4f3026a005158ac029-text/javascript\"></script><script defer=\"\" src=\"main.ec6aa23dbc7ffc57e9f0.js\" type=\"632a4a4f3026a005158ac029-text/javascript\"></script>\n",
       "</body></html>"
      ]
     },
     "execution_count": 14,
     "metadata": {},
     "output_type": "execute_result"
    }
   ],
   "source": [
    "soup"
   ]
  },
  {
   "cell_type": "markdown",
   "metadata": {
    "jupyter": {
     "source_hidden": true
    }
   },
   "source": [
    "# [con PyQt4](https://impythonist.wordpress.com/2015/01/06/ultimate-guide-for-scraping-javascript-rendered-web-pages/)"
   ]
  },
  {
   "cell_type": "markdown",
   "metadata": {
    "jupyter": {
     "source_hidden": true
    }
   },
   "source": [
    "import sys  \n",
    "from PyQt4.QtGui import *  \n",
    "from PyQt4.QtCore import *  \n",
    "from PyQt4.QtWebKit import *  \n",
    "from lxml import html \n",
    "\n",
    "class Render(QWebPage):  \n",
    "  def __init__(self, url):  \n",
    "    self.app = QApplication(sys.argv)  \n",
    "    QWebPage.__init__(self)  \n",
    "    self.loadFinished.connect(self._loadFinished)  \n",
    "    self.mainFrame().load(QUrl(url))  \n",
    "    self.app.exec_()  \n",
    "  \n",
    "  def _loadFinished(self, result):  \n",
    "    self.frame = self.mainFrame()  \n",
    "    self.app.quit() "
   ]
  },
  {
   "cell_type": "markdown",
   "metadata": {
    "jupyter": {
     "source_hidden": true
    }
   },
   "source": [
    "# Selenium"
   ]
  },
  {
   "cell_type": "markdown",
   "metadata": {
    "jupyter": {
     "source_hidden": true
    }
   },
   "source": [
    "from selenium import webdriver\n",
    "from urllib.request import urlopen, Request"
   ]
  },
  {
   "cell_type": "markdown",
   "metadata": {
    "jupyter": {
     "source_hidden": true
    }
   },
   "source": [
    "url=aristegui\n",
    "file_name=\"aristegui.txt\"\n",
    "\n",
    "#conn = urlopen(url)\n",
    "\n",
    "req= Request(aristegui,headers=headers)\n",
    "conn = urlopen(req)\n",
    "\n",
    "data = conn.read()\n",
    "conn.close()\n",
    "\n",
    "with open(file_name,'wt') as file:\n",
    "    file.write(str(data))\n",
    "\n",
    "browser = webdriver.Firefox()\n",
    "browser.get('file:///'+file_name)\n",
    "html = browser.page_source\n",
    "browser.quit()"
   ]
  },
  {
   "cell_type": "markdown",
   "metadata": {},
   "source": [
    "# Phantom JS"
   ]
  },
  {
   "cell_type": "code",
   "execution_count": 15,
   "metadata": {},
   "outputs": [],
   "source": [
    "import requests\n",
    "from bs4 import BeautifulSoup\n",
    "from selenium import webdriver"
   ]
  },
  {
   "cell_type": "markdown",
   "metadata": {},
   "source": [
    "## Ejemplo original"
   ]
  },
  {
   "cell_type": "code",
   "execution_count": 16,
   "metadata": {},
   "outputs": [
    {
     "name": "stderr",
     "output_type": "stream",
     "text": [
      "/usr/local/lib/python3.6/dist-packages/selenium/webdriver/phantomjs/webdriver.py:49: UserWarning: Selenium support for PhantomJS has been deprecated, please use headless versions of Chrome or Firefox instead\n",
      "  warnings.warn('Selenium support for PhantomJS has been deprecated, please use headless '\n"
     ]
    },
    {
     "name": "stdout",
     "output_type": "stream",
     "text": [
      "Yay! Supports javascript\n"
     ]
    }
   ],
   "source": [
    "my_url=\"http://avi.im/stuff/js-or-no-js.html\"\n",
    "response = requests.get(my_url)\n",
    "soup = BeautifulSoup(response.text)\n",
    "soup.find(id=\"intro-text\")\n",
    "\n",
    "driver = webdriver.PhantomJS(executable_path=\"./phantomjs\")\n",
    "driver.get(my_url)\n",
    "p_element = driver.find_element_by_id(id_='intro-text')\n",
    "print(p_element.text)"
   ]
  },
  {
   "cell_type": "markdown",
   "metadata": {},
   "source": [
    "## Ejemplo aristegi"
   ]
  },
  {
   "cell_type": "code",
   "execution_count": 17,
   "metadata": {},
   "outputs": [],
   "source": [
    "driver = webdriver.PhantomJS(executable_path=\"./phantomjs\")\n",
    "driver.get(aristegui)"
   ]
  },
  {
   "cell_type": "code",
   "execution_count": 18,
   "metadata": {},
   "outputs": [
    {
     "data": {
      "text/plain": [
       "'searchmenu\\nDesde cualquier medio, periodismo en libertad\\n21 jul, 2020\\n\\n\\n\\n\\nTE RECOMENDAMOS\\nCONTENIDO PATROCINADO\\nKanye West: \"Casi maté a mi hija\"\\nBrad Pitt se retira de la actuación por tiempo indefinido\\nVideo: revisaron la grabación de un choque automovilístico y descubrieron …\\nPremios Oscar: Parasite hizo historia y Netflix se consagró como el gran p…\\nEminem compartió su número de teléfono para hablar con sus fans\\nSexo: mirar mucho porno, ¿favorece la disfunción eréctil?\\nZoya Manaenko es enfermera y castra químicamente a pederastas: \"Es la deci…\\nDescarriló un tren que iba a 270 km/h: hay 22 heridos\\nContenido relacionado\\nLo + leído\\nViral\\nARISTEGUI EN VIVO\\n©2020 Aristegui Noticias Network. DERECHOS RESERVADOS'"
      ]
     },
     "execution_count": 18,
     "metadata": {},
     "output_type": "execute_result"
    }
   ],
   "source": [
    "p_element = driver.find_element_by_tag_name(name=\"div\")\n",
    "p_element.text"
   ]
  },
  {
   "cell_type": "code",
   "execution_count": 19,
   "metadata": {},
   "outputs": [
    {
     "data": {
      "text/plain": [
       "'Desde cualquier medio, periodismo en libertad'"
      ]
     },
     "execution_count": 19,
     "metadata": {},
     "output_type": "execute_result"
    }
   ],
   "source": [
    "a=driver.find_element_by_class_name(\"text-center\")\n",
    "a.text"
   ]
  },
  {
   "cell_type": "code",
   "execution_count": 20,
   "metadata": {},
   "outputs": [
    {
     "name": "stdout",
     "output_type": "stream",
     "text": [
      "searchmenu\n",
      "Desde cualquier medio, periodismo en libertad\n",
      "21 jul, 2020\n",
      "\n",
      "\n",
      "\n",
      "\n",
      "TE RECOMENDAMOS\n",
      "CONTENIDO PATROCINADO\n",
      "Kanye West: \"Casi maté a mi hija\"\n",
      "Brad Pitt se retira de la actuación por tiempo indefinido\n",
      "Video: revisaron la grabación de un choque automovilístico y descubrieron …\n",
      "Premios Oscar: Parasite hizo historia y Netflix se consagró como el gran p…\n",
      "Eminem compartió su número de teléfono para hablar con sus fans\n",
      "Sexo: mirar mucho porno, ¿favorece la disfunción eréctil?\n",
      "Zoya Manaenko es enfermera y castra químicamente a pederastas: \"Es la deci…\n",
      "Descarriló un tren que iba a 270 km/h: hay 22 heridos\n",
      "Contenido relacionado\n",
      "Lo + leído\n",
      "Viral\n",
      "ARISTEGUI EN VIVO\n",
      "©2020 Aristegui Noticias Network. DERECHOS RESERVADOS\n",
      "\n",
      "\n",
      "searchmenu\n",
      "Desde cualquier medio, periodismo en libertad\n",
      "21 jul, 2020\n",
      "\n",
      "\n",
      "\n",
      "\n",
      "TE RECOMENDAMOS\n",
      "CONTENIDO PATROCINADO\n",
      "Kanye West: \"Casi maté a mi hija\"\n",
      "Brad Pitt se retira de la actuación por tiempo indefinido\n",
      "Video: revisaron la grabación de un choque automovilístico y descubrieron …\n",
      "Premios Oscar: Parasite hizo historia y Netflix se consagró como el gran p…\n",
      "Eminem compartió su número de teléfono para hablar con sus fans\n",
      "Sexo: mirar mucho porno, ¿favorece la disfunción eréctil?\n",
      "Zoya Manaenko es enfermera y castra químicamente a pederastas: \"Es la deci…\n",
      "Descarriló un tren que iba a 270 km/h: hay 22 heridos\n",
      "Contenido relacionado\n",
      "Lo + leído\n",
      "Viral\n",
      "ARISTEGUI EN VIVO\n",
      "©2020 Aristegui Noticias Network. DERECHOS RESERVADOS\n",
      "searchmenu\n",
      "Desde cualquier medio, periodismo en libertad\n",
      "21 jul, 2020\n",
      "\n",
      "\n",
      "\n",
      "\n",
      "TE RECOMENDAMOS\n",
      "CONTENIDO PATROCINADO\n",
      "Kanye West: \"Casi maté a mi hija\"\n",
      "Brad Pitt se retira de la actuación por tiempo indefinido\n",
      "Video: revisaron la grabación de un choque automovilístico y descubrieron …\n",
      "Premios Oscar: Parasite hizo historia y Netflix se consagró como el gran p…\n",
      "Eminem compartió su número de teléfono para hablar con sus fans\n",
      "Sexo: mirar mucho porno, ¿favorece la disfunción eréctil?\n",
      "Zoya Manaenko es enfermera y castra químicamente a pederastas: \"Es la deci…\n",
      "Descarriló un tren que iba a 270 km/h: hay 22 heridos\n",
      "Contenido relacionado\n",
      "Lo + leído\n",
      "Viral\n",
      "ARISTEGUI EN VIVO\n",
      "©2020 Aristegui Noticias Network. DERECHOS RESERVADOS\n",
      "searchmenu\n",
      "Desde cualquier medio, periodismo en libertad\n",
      "21 jul, 2020\n",
      "searchmenu\n",
      "Desde cualquier medio, periodismo en libertad\n",
      "21 jul, 2020\n",
      "searchmenu\n",
      "Desde cualquier medio, periodismo en libertad\n",
      "21 jul, 2020\n",
      "searchmenu\n",
      "Desde cualquier medio, periodismo en libertad\n",
      "21 jul, 2020\n",
      "21 jul, 2020\n",
      "\n",
      "\n",
      "21 jul, 2020\n",
      "21 jul, 2020\n",
      "\n",
      "\n",
      "\n",
      "\n",
      "\n",
      "\n",
      "\n",
      "\n",
      "\n",
      "\n",
      "\n",
      "\n",
      "\n",
      "\n",
      "\n",
      "\n",
      "\n",
      "\n",
      "\n",
      "\n",
      "\n",
      "\n",
      "\n",
      "\n",
      "\n",
      "\n",
      "\n",
      "\n",
      "\n",
      "\n",
      "\n",
      "\n",
      "\n",
      "\n",
      "\n",
      "\n",
      "\n",
      "\n",
      "\n",
      "\n",
      "\n",
      "\n",
      "\n",
      "\n",
      "\n",
      "\n",
      "\n",
      "\n",
      "\n",
      "\n",
      "\n",
      "\n",
      "\n",
      "\n",
      "\n",
      "TE RECOMENDAMOS\n",
      "CONTENIDO PATROCINADO\n",
      "Kanye West: \"Casi maté a mi hija\"\n",
      "Brad Pitt se retira de la actuación por tiempo indefinido\n",
      "Video: revisaron la grabación de un choque automovilístico y descubrieron …\n",
      "Premios Oscar: Parasite hizo historia y Netflix se consagró como el gran p…\n",
      "Eminem compartió su número de teléfono para hablar con sus fans\n",
      "Sexo: mirar mucho porno, ¿favorece la disfunción eréctil?\n",
      "Zoya Manaenko es enfermera y castra químicamente a pederastas: \"Es la deci…\n",
      "Descarriló un tren que iba a 270 km/h: hay 22 heridos\n",
      "Contenido relacionado\n",
      "Lo + leído\n",
      "Viral\n",
      "TE RECOMENDAMOS\n",
      "CONTENIDO PATROCINADO\n",
      "Kanye West: \"Casi maté a mi hija\"\n",
      "Brad Pitt se retira de la actuación por tiempo indefinido\n",
      "Video: revisaron la grabación de un choque automovilístico y descubrieron …\n",
      "Premios Oscar: Parasite hizo historia y Netflix se consagró como el gran p…\n",
      "Eminem compartió su número de teléfono para hablar con sus fans\n",
      "Sexo: mirar mucho porno, ¿favorece la disfunción eréctil?\n",
      "Zoya Manaenko es enfermera y castra químicamente a pederastas: \"Es la deci…\n",
      "Descarriló un tren que iba a 270 km/h: hay 22 heridos\n",
      "Contenido relacionado\n",
      "Lo + leído\n",
      "Viral\n",
      "\n",
      "\n",
      "\n",
      "\n",
      "\n",
      "\n",
      "\n",
      "\n",
      "\n",
      "\n",
      "\n",
      "\n",
      "\n",
      "\n",
      "\n",
      "\n",
      "\n",
      "\n",
      "\n",
      "\n",
      "\n",
      "\n",
      "\n",
      "\n",
      "\n",
      "\n",
      "\n",
      "\n",
      "\n",
      "\n",
      "\n",
      "\n",
      "\n",
      "\n",
      "\n",
      "\n",
      "\n",
      "\n",
      "\n",
      "\n",
      "\n",
      "\n",
      "\n",
      "\n",
      "\n",
      "\n",
      "\n",
      "\n",
      "\n",
      "\n",
      "\n",
      "\n",
      "\n",
      "\n",
      "\n",
      "\n",
      "\n",
      "\n",
      "\n",
      "\n",
      "\n",
      "\n",
      "\n",
      "\n",
      "\n",
      "\n",
      "\n",
      "\n",
      "\n",
      "\n",
      "\n",
      "\n",
      "\n",
      "\n",
      "\n",
      "\n",
      "\n",
      "\n",
      "\n",
      "\n",
      "\n",
      "\n",
      "\n",
      "\n",
      "\n",
      "\n",
      "\n",
      "\n",
      "\n",
      "\n",
      "\n",
      "\n",
      "\n",
      "\n",
      "\n",
      "\n",
      "\n",
      "\n",
      "\n",
      "\n",
      "\n",
      "\n",
      "\n",
      "\n",
      "\n",
      "\n",
      "\n",
      "\n",
      "\n",
      "\n",
      "\n",
      "\n",
      "\n",
      "\n",
      "\n",
      "\n",
      "\n",
      "\n",
      "\n",
      "\n",
      "\n",
      "\n",
      "\n",
      "\n",
      "\n",
      "\n",
      "\n",
      "\n",
      "\n",
      "\n",
      "\n",
      "\n",
      "\n",
      "\n",
      "\n",
      "\n",
      "\n",
      "\n",
      "\n",
      "\n",
      "\n",
      "\n",
      "\n",
      "\n",
      "\n",
      "\n",
      "\n",
      "\n",
      "\n",
      "\n",
      "\n",
      "\n",
      "\n",
      "\n",
      "\n",
      "\n",
      "\n",
      "\n",
      "\n",
      "\n",
      "\n",
      "\n",
      "\n",
      "\n",
      "\n",
      "\n",
      "\n",
      "\n",
      "\n",
      "\n",
      "\n",
      "\n",
      "\n",
      "\n",
      "\n",
      "\n",
      "\n",
      "\n",
      "\n",
      "\n",
      "\n",
      "\n",
      "\n",
      "\n",
      "\n",
      "\n",
      "\n",
      "\n",
      "\n",
      "\n",
      "\n",
      "\n",
      "\n",
      "\n",
      "\n",
      "\n",
      "TE RECOMENDAMOS\n",
      "\n",
      "\n",
      "\n",
      "\n",
      "\n",
      "\n",
      "\n",
      "\n",
      "\n",
      "\n",
      "\n",
      "CONTENIDO PATROCINADO\n",
      "Kanye West: \"Casi maté a mi hija\"\n",
      "Brad Pitt se retira de la actuación por tiempo indefinido\n",
      "Video: revisaron la grabación de un choque automovilístico y descubrieron …\n",
      "Premios Oscar: Parasite hizo historia y Netflix se consagró como el gran p…\n",
      "Eminem compartió su número de teléfono para hablar con sus fans\n",
      "Sexo: mirar mucho porno, ¿favorece la disfunción eréctil?\n",
      "Zoya Manaenko es enfermera y castra químicamente a pederastas: \"Es la deci…\n",
      "Descarriló un tren que iba a 270 km/h: hay 22 heridos\n",
      "CONTENIDO PATROCINADO\n",
      "Kanye West: \"Casi maté a mi hija\"\n",
      "Brad Pitt se retira de la actuación por tiempo indefinido\n",
      "Video: revisaron la grabación de un choque automovilístico y descubrieron …\n",
      "Premios Oscar: Parasite hizo historia y Netflix se consagró como el gran p…\n",
      "Eminem compartió su número de teléfono para hablar con sus fans\n",
      "Sexo: mirar mucho porno, ¿favorece la disfunción eréctil?\n",
      "Zoya Manaenko es enfermera y castra químicamente a pederastas: \"Es la deci…\n",
      "Descarriló un tren que iba a 270 km/h: hay 22 heridos\n",
      "CONTENIDO PATROCINADO\n",
      "Kanye West: \"Casi maté a mi hija\"\n",
      "Brad Pitt se retira de la actuación por tiempo indefinido\n",
      "Video: revisaron la grabación de un choque automovilístico y descubrieron …\n",
      "Premios Oscar: Parasite hizo historia y Netflix se consagró como el gran p…\n",
      "Eminem compartió su número de teléfono para hablar con sus fans\n",
      "Sexo: mirar mucho porno, ¿favorece la disfunción eréctil?\n",
      "Zoya Manaenko es enfermera y castra químicamente a pederastas: \"Es la deci…\n",
      "Descarriló un tren que iba a 270 km/h: hay 22 heridos\n",
      "CONTENIDO PATROCINADO\n",
      "Kanye West: \"Casi maté a mi hija\"\n",
      "Brad Pitt se retira de la actuación por tiempo indefinido\n",
      "Video: revisaron la grabación de un choque automovilístico y descubrieron …\n",
      "Premios Oscar: Parasite hizo historia y Netflix se consagró como el gran p…\n",
      "Eminem compartió su número de teléfono para hablar con sus fans\n",
      "Sexo: mirar mucho porno, ¿favorece la disfunción eréctil?\n",
      "Zoya Manaenko es enfermera y castra químicamente a pederastas: \"Es la deci…\n",
      "Descarriló un tren que iba a 270 km/h: hay 22 heridos\n",
      "CONTENIDO PATROCINADO\n",
      "Kanye West: \"Casi maté a mi hija\"\n",
      "Brad Pitt se retira de la actuación por tiempo indefinido\n",
      "Video: revisaron la grabación de un choque automovilístico y descubrieron …\n",
      "Premios Oscar: Parasite hizo historia y Netflix se consagró como el gran p…\n",
      "Eminem compartió su número de teléfono para hablar con sus fans\n",
      "Sexo: mirar mucho porno, ¿favorece la disfunción eréctil?\n",
      "Zoya Manaenko es enfermera y castra químicamente a pederastas: \"Es la deci…\n",
      "Descarriló un tren que iba a 270 km/h: hay 22 heridos\n",
      "CONTENIDO PATROCINADO\n",
      "\n",
      "Kanye West: \"Casi maté a mi hija\"\n",
      "Kanye West: \"Casi maté a mi hija\"\n",
      "\n",
      "\n",
      "Kanye West: \"Casi maté a mi hija\"\n",
      "Kanye West: \"Casi maté a mi hija\"\n",
      "\n",
      "Kanye West: \"Casi maté a mi hija\"\n",
      "\n",
      "\n",
      "\n",
      "\n",
      "\n",
      "\n",
      "\n",
      "\n",
      "\n",
      "Brad Pitt se retira de la actuación por tiempo indefinido\n",
      "Brad Pitt se retira de la actuación por tiempo indefinido\n",
      "\n",
      "\n",
      "Brad Pitt se retira de la actuación por tiempo indefinido\n",
      "Brad Pitt se retira de la actuación por tiempo indefinido\n",
      "\n",
      "Brad Pitt se retira de la actuación por tiempo indefinido\n",
      "\n",
      "\n",
      "\n",
      "\n",
      "Video: revisaron la grabación de un choque automovilístico y descubrieron …\n",
      "Video: revisaron la grabación de un choque automovilístico y descubrieron …\n",
      "\n",
      "\n",
      "Video: revisaron la grabación de un choque automovilístico y descubrieron …\n",
      "Video: revisaron la grabación de un choque automovilístico y descubrieron …\n",
      "\n",
      "Video: revisaron la grabación de un choque automovilístico y descubrieron …\n",
      "\n",
      "\n",
      "\n",
      "\n",
      "Premios Oscar: Parasite hizo historia y Netflix se consagró como el gran p…\n",
      "Premios Oscar: Parasite hizo historia y Netflix se consagró como el gran p…\n",
      "\n",
      "\n",
      "Premios Oscar: Parasite hizo historia y Netflix se consagró como el gran p…\n",
      "Premios Oscar: Parasite hizo historia y Netflix se consagró como el gran p…\n",
      "\n",
      "Premios Oscar: Parasite hizo historia y Netflix se consagró como el gran p…\n",
      "\n",
      "\n",
      "\n",
      "\n",
      "Eminem compartió su número de teléfono para hablar con sus fans\n",
      "Eminem compartió su número de teléfono para hablar con sus fans\n",
      "\n",
      "\n",
      "Eminem compartió su número de teléfono para hablar con sus fans\n",
      "Eminem compartió su número de teléfono para hablar con sus fans\n",
      "\n",
      "Eminem compartió su número de teléfono para hablar con sus fans\n",
      "\n",
      "\n",
      "\n",
      "\n",
      "Sexo: mirar mucho porno, ¿favorece la disfunción eréctil?\n",
      "Sexo: mirar mucho porno, ¿favorece la disfunción eréctil?\n",
      "\n",
      "\n",
      "Sexo: mirar mucho porno, ¿favorece la disfunción eréctil?\n",
      "Sexo: mirar mucho porno, ¿favorece la disfunción eréctil?\n",
      "\n",
      "Sexo: mirar mucho porno, ¿favorece la disfunción eréctil?\n",
      "\n",
      "\n",
      "\n",
      "\n",
      "Zoya Manaenko es enfermera y castra químicamente a pederastas: \"Es la deci…\n",
      "Zoya Manaenko es enfermera y castra químicamente a pederastas: \"Es la deci…\n",
      "\n",
      "\n",
      "Zoya Manaenko es enfermera y castra químicamente a pederastas: \"Es la deci…\n",
      "Zoya Manaenko es enfermera y castra químicamente a pederastas: \"Es la deci…\n",
      "\n",
      "Zoya Manaenko es enfermera y castra químicamente a pederastas: \"Es la deci…\n",
      "\n",
      "\n",
      "\n",
      "\n",
      "Descarriló un tren que iba a 270 km/h: hay 22 heridos\n",
      "Descarriló un tren que iba a 270 km/h: hay 22 heridos\n",
      "\n",
      "\n",
      "Descarriló un tren que iba a 270 km/h: hay 22 heridos\n",
      "Descarriló un tren que iba a 270 km/h: hay 22 heridos\n",
      "\n",
      "Descarriló un tren que iba a 270 km/h: hay 22 heridos\n",
      "\n",
      "\n",
      "\n",
      "\n",
      "Contenido relacionado\n",
      "\n",
      "\n",
      "\n",
      "\n",
      "\n",
      "\n",
      "\n",
      "\n",
      "\n",
      "\n",
      "\n",
      "\n",
      "\n",
      "\n",
      "\n",
      "\n",
      "\n",
      "\n",
      "\n",
      "\n",
      "\n",
      "Lo + leído\n",
      "Lo + leído\n",
      "Lo + leído\n",
      "\n",
      "\n",
      "\n",
      "\n",
      "\n",
      "\n",
      "\n",
      "\n",
      "\n",
      "\n",
      "\n",
      "\n",
      "\n",
      "\n",
      "\n",
      "\n",
      "\n",
      "\n",
      "\n",
      "\n",
      "\n",
      "\n",
      "\n",
      "\n",
      "\n",
      "\n",
      "\n",
      "\n",
      "\n",
      "\n",
      "\n",
      "\n",
      "\n",
      "\n",
      "\n",
      "Viral\n",
      "Viral\n",
      "\n",
      "\n",
      "\n",
      "\n",
      "\n",
      "\n",
      "\n",
      "\n",
      "\n",
      "\n",
      "\n",
      "\n",
      "\n",
      "\n",
      "\n",
      "\n",
      "\n",
      "\n",
      "ARISTEGUI EN VIVO\n",
      "©2020 Aristegui Noticias Network. DERECHOS RESERVADOS\n",
      "ARISTEGUI EN VIVO\n",
      "ARISTEGUI EN VIVO\n",
      "\n",
      "\n",
      "\n",
      "\n",
      "\n",
      "ARISTEGUI EN VIVO\n",
      "ARISTEGUI EN VIVO\n",
      "ARISTEGUI EN VIVO\n",
      "\n",
      "\n",
      "\n",
      "\n",
      "\n",
      "\n",
      "\n",
      "\n",
      "\n",
      "\n",
      "\n",
      "\n",
      "©2020 Aristegui Noticias Network. DERECHOS RESERVADOS\n",
      "©2020 Aristegui Noticias Network. DERECHOS RESERVADOS\n",
      "©2020 Aristegui Noticias Network. DERECHOS RESERVADOS\n",
      "\n",
      "\n",
      "\n",
      "\n"
     ]
    }
   ],
   "source": [
    "objects=driver.find_elements_by_tag_name(\"div\")\n",
    "for obj in objects:\n",
    "    print(obj.text)"
   ]
  },
  {
   "cell_type": "code",
   "execution_count": 21,
   "metadata": {},
   "outputs": [
    {
     "data": {
      "text/plain": [
       "True"
      ]
     },
     "execution_count": 21,
     "metadata": {},
     "output_type": "execute_result"
    }
   ],
   "source": [
    "driver.save_screenshot(\"screenshot.png\")"
   ]
  },
  {
   "cell_type": "code",
   "execution_count": 22,
   "metadata": {},
   "outputs": [
    {
     "data": {
      "text/plain": [
       "<bound method WebDriver.find_elements_by_id of <selenium.webdriver.phantomjs.webdriver.WebDriver (session=\"9da38520-cb6b-11ea-86fb-6be6842dfb17\")>>"
      ]
     },
     "execution_count": 22,
     "metadata": {},
     "output_type": "execute_result"
    }
   ],
   "source": [
    "driver.find_elements_by_id"
   ]
  }
 ],
 "metadata": {
  "kernelspec": {
   "display_name": "Python 3",
   "language": "python",
   "name": "python3"
  },
  "language_info": {
   "codemirror_mode": {
    "name": "ipython",
    "version": 3
   },
   "file_extension": ".py",
   "mimetype": "text/x-python",
   "name": "python",
   "nbconvert_exporter": "python",
   "pygments_lexer": "ipython3",
   "version": "3.6.9"
  }
 },
 "nbformat": 4,
 "nbformat_minor": 4
}